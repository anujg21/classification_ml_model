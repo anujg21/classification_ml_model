{
 "cells": [
  {
   "cell_type": "markdown",
   "metadata": {},
   "source": [
    "# Practical Application III: Comparing Classifiers\n",
    "\n",
    "**Overview**: In this practical application, your goal is to compare the performance of the classifiers we encountered in this section, namely K Nearest Neighbor, Logistic Regression, Decision Trees, and Support Vector Machines.  We will utilize a dataset related to marketing bank products over the telephone.  \n",
    "\n"
   ]
  },
  {
   "cell_type": "markdown",
   "metadata": {},
   "source": [
    "### Getting Started\n",
    "\n",
    "Our dataset comes from the UCI Machine Learning repository [link](https://archive.ics.uci.edu/ml/datasets/bank+marketing).  The data is from a Portugese banking institution and is a collection of the results of multiple marketing campaigns.  We will make use of the article accompanying the dataset [here](CRISP-DM-BANK.pdf) for more information on the data and features.\n",
    "\n"
   ]
  },
  {
   "cell_type": "markdown",
   "metadata": {},
   "source": [
    "### Problem 1: Understanding the Data\n",
    "\n",
    "To gain a better understanding of the data, please read the information provided in the UCI link above, and examine the **Materials and Methods** section of the paper.  How many marketing campaigns does this data represent?"
   ]
  },
  {
   "cell_type": "markdown",
   "metadata": {},
   "source": [
    "<b><i>The dataset includes information about individual clients, such as age, job type, and credit default status, among other features. The target variable is whether or not the client will subscribe to a deposit with fewer calls to make, and the goal is to build a model that can predict it based on the available features. The Portuguese banking institution data is well-suited for ML classification tasks, as it has many features and a binary target variable, making it an ideal candidate for testing and comparing different ML algorithms.</b></i>"
   ]
  },
  {
   "cell_type": "code",
   "execution_count": 141,
   "metadata": {},
   "outputs": [],
   "source": [
    "#Read data \n",
    "import pandas as pd\n",
    "import numpy as np\n",
    "\n",
    "#plotting library \n",
    "import seaborn as sns\n",
    "import matplotlib.pyplot as plt\n",
    "import plotly.express as px\n",
    "\n",
    "\n",
    "# Encoding and Transformation \n",
    "from sklearn.compose import ColumnTransformer\n",
    "from sklearn.pipeline import Pipeline\n",
    "from sklearn.preprocessing import OneHotEncoder, StandardScaler, MinMaxScaler \n",
    "\n",
    "#Split dataset\n",
    "from sklearn.model_selection import train_test_split, GridSearchCV\n",
    "\n",
    "#baseline classifier\n",
    "from sklearn.dummy import DummyClassifier\n",
    "\n",
    "#Models\n",
    "from sklearn.linear_model import LinearRegression, LogisticRegression\n",
    "from sklearn.neighbors import KNeighborsClassifier\n",
    "from sklearn.tree import DecisionTreeClassifier\n",
    "from sklearn.svm import SVC\n",
    "\n",
    "#Time\n",
    "\n",
    "import time\n",
    "from datetime import datetime as dt\n",
    "\n",
    "#Validation of model \n",
    "from sklearn.metrics import confusion_matrix\n",
    "from sklearn.metrics import classification_report"
   ]
  },
  {
   "cell_type": "markdown",
   "metadata": {},
   "source": [
    "### Problem 2: Read in the Data\n",
    "\n",
    "Use pandas to read in the dataset `bank-additional-full.csv` and assign to a meaningful variable name."
   ]
  },
  {
   "cell_type": "code",
   "execution_count": 2,
   "metadata": {},
   "outputs": [],
   "source": [
    "import pandas as pd"
   ]
  },
  {
   "cell_type": "code",
   "execution_count": 3,
   "metadata": {},
   "outputs": [],
   "source": [
    "df = pd.read_csv('/Users/mma0812/Downloads/module_17_starter/data/bank-additional-full.csv', sep = ';')"
   ]
  },
  {
   "cell_type": "code",
   "execution_count": 201,
   "metadata": {},
   "outputs": [
    {
     "name": "stdout",
     "output_type": "stream",
     "text": [
      "<class 'pandas.core.frame.DataFrame'>\n",
      "RangeIndex: 4119 entries, 0 to 4118\n",
      "Data columns (total 21 columns):\n",
      " #   Column          Non-Null Count  Dtype  \n",
      "---  ------          --------------  -----  \n",
      " 0   age             4119 non-null   int64  \n",
      " 1   job             4119 non-null   object \n",
      " 2   marital         4119 non-null   object \n",
      " 3   education       4119 non-null   object \n",
      " 4   default         4119 non-null   object \n",
      " 5   housing         4119 non-null   object \n",
      " 6   loan            4119 non-null   object \n",
      " 7   contact         4119 non-null   object \n",
      " 8   month           4119 non-null   object \n",
      " 9   day_of_week     4119 non-null   object \n",
      " 10  duration        4119 non-null   int64  \n",
      " 11  campaign        4119 non-null   int64  \n",
      " 12  pdays           4119 non-null   int64  \n",
      " 13  previous        4119 non-null   int64  \n",
      " 14  poutcome        4119 non-null   object \n",
      " 15  emp.var.rate    4119 non-null   float64\n",
      " 16  cons.price.idx  4119 non-null   float64\n",
      " 17  cons.conf.idx   4119 non-null   float64\n",
      " 18  euribor3m       4119 non-null   float64\n",
      " 19  nr.employed     4119 non-null   float64\n",
      " 20  y               4119 non-null   object \n",
      "dtypes: float64(5), int64(5), object(11)\n",
      "memory usage: 675.9+ KB\n"
     ]
    }
   ],
   "source": [
    "df_short = pd.read_csv('/Users/mma0812/Downloads/module_17_starter/data/bank-additional.csv', sep = ';')\n",
    "df_short.info()"
   ]
  },
  {
   "cell_type": "code",
   "execution_count": 4,
   "metadata": {},
   "outputs": [
    {
     "data": {
      "text/html": [
       "<div>\n",
       "<style scoped>\n",
       "    .dataframe tbody tr th:only-of-type {\n",
       "        vertical-align: middle;\n",
       "    }\n",
       "\n",
       "    .dataframe tbody tr th {\n",
       "        vertical-align: top;\n",
       "    }\n",
       "\n",
       "    .dataframe thead th {\n",
       "        text-align: right;\n",
       "    }\n",
       "</style>\n",
       "<table border=\"1\" class=\"dataframe\">\n",
       "  <thead>\n",
       "    <tr style=\"text-align: right;\">\n",
       "      <th></th>\n",
       "      <th>age</th>\n",
       "      <th>job</th>\n",
       "      <th>marital</th>\n",
       "      <th>education</th>\n",
       "      <th>default</th>\n",
       "      <th>housing</th>\n",
       "      <th>loan</th>\n",
       "      <th>contact</th>\n",
       "      <th>month</th>\n",
       "      <th>day_of_week</th>\n",
       "      <th>...</th>\n",
       "      <th>campaign</th>\n",
       "      <th>pdays</th>\n",
       "      <th>previous</th>\n",
       "      <th>poutcome</th>\n",
       "      <th>emp.var.rate</th>\n",
       "      <th>cons.price.idx</th>\n",
       "      <th>cons.conf.idx</th>\n",
       "      <th>euribor3m</th>\n",
       "      <th>nr.employed</th>\n",
       "      <th>y</th>\n",
       "    </tr>\n",
       "  </thead>\n",
       "  <tbody>\n",
       "    <tr>\n",
       "      <th>0</th>\n",
       "      <td>56</td>\n",
       "      <td>housemaid</td>\n",
       "      <td>married</td>\n",
       "      <td>basic.4y</td>\n",
       "      <td>no</td>\n",
       "      <td>no</td>\n",
       "      <td>no</td>\n",
       "      <td>telephone</td>\n",
       "      <td>may</td>\n",
       "      <td>mon</td>\n",
       "      <td>...</td>\n",
       "      <td>1</td>\n",
       "      <td>999</td>\n",
       "      <td>0</td>\n",
       "      <td>nonexistent</td>\n",
       "      <td>1.1</td>\n",
       "      <td>93.994</td>\n",
       "      <td>-36.4</td>\n",
       "      <td>4.857</td>\n",
       "      <td>5191.0</td>\n",
       "      <td>no</td>\n",
       "    </tr>\n",
       "    <tr>\n",
       "      <th>1</th>\n",
       "      <td>57</td>\n",
       "      <td>services</td>\n",
       "      <td>married</td>\n",
       "      <td>high.school</td>\n",
       "      <td>unknown</td>\n",
       "      <td>no</td>\n",
       "      <td>no</td>\n",
       "      <td>telephone</td>\n",
       "      <td>may</td>\n",
       "      <td>mon</td>\n",
       "      <td>...</td>\n",
       "      <td>1</td>\n",
       "      <td>999</td>\n",
       "      <td>0</td>\n",
       "      <td>nonexistent</td>\n",
       "      <td>1.1</td>\n",
       "      <td>93.994</td>\n",
       "      <td>-36.4</td>\n",
       "      <td>4.857</td>\n",
       "      <td>5191.0</td>\n",
       "      <td>no</td>\n",
       "    </tr>\n",
       "    <tr>\n",
       "      <th>2</th>\n",
       "      <td>37</td>\n",
       "      <td>services</td>\n",
       "      <td>married</td>\n",
       "      <td>high.school</td>\n",
       "      <td>no</td>\n",
       "      <td>yes</td>\n",
       "      <td>no</td>\n",
       "      <td>telephone</td>\n",
       "      <td>may</td>\n",
       "      <td>mon</td>\n",
       "      <td>...</td>\n",
       "      <td>1</td>\n",
       "      <td>999</td>\n",
       "      <td>0</td>\n",
       "      <td>nonexistent</td>\n",
       "      <td>1.1</td>\n",
       "      <td>93.994</td>\n",
       "      <td>-36.4</td>\n",
       "      <td>4.857</td>\n",
       "      <td>5191.0</td>\n",
       "      <td>no</td>\n",
       "    </tr>\n",
       "    <tr>\n",
       "      <th>3</th>\n",
       "      <td>40</td>\n",
       "      <td>admin.</td>\n",
       "      <td>married</td>\n",
       "      <td>basic.6y</td>\n",
       "      <td>no</td>\n",
       "      <td>no</td>\n",
       "      <td>no</td>\n",
       "      <td>telephone</td>\n",
       "      <td>may</td>\n",
       "      <td>mon</td>\n",
       "      <td>...</td>\n",
       "      <td>1</td>\n",
       "      <td>999</td>\n",
       "      <td>0</td>\n",
       "      <td>nonexistent</td>\n",
       "      <td>1.1</td>\n",
       "      <td>93.994</td>\n",
       "      <td>-36.4</td>\n",
       "      <td>4.857</td>\n",
       "      <td>5191.0</td>\n",
       "      <td>no</td>\n",
       "    </tr>\n",
       "    <tr>\n",
       "      <th>4</th>\n",
       "      <td>56</td>\n",
       "      <td>services</td>\n",
       "      <td>married</td>\n",
       "      <td>high.school</td>\n",
       "      <td>no</td>\n",
       "      <td>no</td>\n",
       "      <td>yes</td>\n",
       "      <td>telephone</td>\n",
       "      <td>may</td>\n",
       "      <td>mon</td>\n",
       "      <td>...</td>\n",
       "      <td>1</td>\n",
       "      <td>999</td>\n",
       "      <td>0</td>\n",
       "      <td>nonexistent</td>\n",
       "      <td>1.1</td>\n",
       "      <td>93.994</td>\n",
       "      <td>-36.4</td>\n",
       "      <td>4.857</td>\n",
       "      <td>5191.0</td>\n",
       "      <td>no</td>\n",
       "    </tr>\n",
       "  </tbody>\n",
       "</table>\n",
       "<p>5 rows × 21 columns</p>\n",
       "</div>"
      ],
      "text/plain": [
       "   age        job  marital    education  default housing loan    contact  \\\n",
       "0   56  housemaid  married     basic.4y       no      no   no  telephone   \n",
       "1   57   services  married  high.school  unknown      no   no  telephone   \n",
       "2   37   services  married  high.school       no     yes   no  telephone   \n",
       "3   40     admin.  married     basic.6y       no      no   no  telephone   \n",
       "4   56   services  married  high.school       no      no  yes  telephone   \n",
       "\n",
       "  month day_of_week  ...  campaign  pdays  previous     poutcome emp.var.rate  \\\n",
       "0   may         mon  ...         1    999         0  nonexistent          1.1   \n",
       "1   may         mon  ...         1    999         0  nonexistent          1.1   \n",
       "2   may         mon  ...         1    999         0  nonexistent          1.1   \n",
       "3   may         mon  ...         1    999         0  nonexistent          1.1   \n",
       "4   may         mon  ...         1    999         0  nonexistent          1.1   \n",
       "\n",
       "   cons.price.idx  cons.conf.idx  euribor3m  nr.employed   y  \n",
       "0          93.994          -36.4      4.857       5191.0  no  \n",
       "1          93.994          -36.4      4.857       5191.0  no  \n",
       "2          93.994          -36.4      4.857       5191.0  no  \n",
       "3          93.994          -36.4      4.857       5191.0  no  \n",
       "4          93.994          -36.4      4.857       5191.0  no  \n",
       "\n",
       "[5 rows x 21 columns]"
      ]
     },
     "execution_count": 4,
     "metadata": {},
     "output_type": "execute_result"
    }
   ],
   "source": [
    "df.head()"
   ]
  },
  {
   "cell_type": "code",
   "execution_count": 5,
   "metadata": {},
   "outputs": [],
   "source": [
    "# It's always good to perform analysis on the copy of the data. \n",
    "\n",
    "df1 = df.copy()"
   ]
  },
  {
   "cell_type": "markdown",
   "metadata": {},
   "source": [
    "### Problem 3: Understanding the Features\n",
    "\n",
    "\n",
    "Examine the data description below, and determine if any of the features are missing values or need to be coerced to a different data type.\n",
    "\n",
    "\n",
    "```\n",
    "Input variables:\n",
    "# bank client data:\n",
    "1 - age (numeric)\n",
    "2 - job : type of job (categorical: 'admin.','blue-collar','entrepreneur','housemaid','management','retired','self-employed','services','student','technician','unemployed','unknown')\n",
    "3 - marital : marital status (categorical: 'divorced','married','single','unknown'; note: 'divorced' means divorced or widowed)\n",
    "4 - education (categorical: 'basic.4y','basic.6y','basic.9y','high.school','illiterate','professional.course','university.degree','unknown')\n",
    "5 - default: has credit in default? (categorical: 'no','yes','unknown')\n",
    "6 - housing: has housing loan? (categorical: 'no','yes','unknown')\n",
    "7 - loan: has personal loan? (categorical: 'no','yes','unknown')\n",
    "# related with the last contact of the current campaign:\n",
    "8 - contact: contact communication type (categorical: 'cellular','telephone')\n",
    "9 - month: last contact month of year (categorical: 'jan', 'feb', 'mar', ..., 'nov', 'dec')\n",
    "10 - day_of_week: last contact day of the week (categorical: 'mon','tue','wed','thu','fri')\n",
    "11 - duration: last contact duration, in seconds (numeric). Important note: this attribute highly affects the output target (e.g., if duration=0 then y='no'). Yet, the duration is not known before a call is performed. Also, after the end of the call y is obviously known. Thus, this input should only be included for benchmark purposes and should be discarded if the intention is to have a realistic predictive model.\n",
    "# other attributes:\n",
    "12 - campaign: number of contacts performed during this campaign and for this client (numeric, includes last contact)\n",
    "13 - pdays: number of days that passed by after the client was last contacted from a previous campaign (numeric; 999 means client was not previously contacted)\n",
    "14 - previous: number of contacts performed before this campaign and for this client (numeric)\n",
    "15 - poutcome: outcome of the previous marketing campaign (categorical: 'failure','nonexistent','success')\n",
    "# social and economic context attributes\n",
    "16 - emp.var.rate: employment variation rate - quarterly indicator (numeric)\n",
    "17 - cons.price.idx: consumer price index - monthly indicator (numeric)\n",
    "18 - cons.conf.idx: consumer confidence index - monthly indicator (numeric)\n",
    "19 - euribor3m: euribor 3 month rate - daily indicator (numeric)\n",
    "20 - nr.employed: number of employees - quarterly indicator (numeric)\n",
    "\n",
    "Output variable (desired target):\n",
    "21 - y - has the client subscribed a term deposit? (binary: 'yes','no')\n",
    "```\n",
    "\n"
   ]
  },
  {
   "cell_type": "markdown",
   "metadata": {},
   "source": [
    "### 3.1 Find the correlation of the features"
   ]
  },
  {
   "cell_type": "code",
   "execution_count": 6,
   "metadata": {},
   "outputs": [
    {
     "data": {
      "text/html": [
       "<div>\n",
       "<style scoped>\n",
       "    .dataframe tbody tr th:only-of-type {\n",
       "        vertical-align: middle;\n",
       "    }\n",
       "\n",
       "    .dataframe tbody tr th {\n",
       "        vertical-align: top;\n",
       "    }\n",
       "\n",
       "    .dataframe thead th {\n",
       "        text-align: right;\n",
       "    }\n",
       "</style>\n",
       "<table border=\"1\" class=\"dataframe\">\n",
       "  <thead>\n",
       "    <tr style=\"text-align: right;\">\n",
       "      <th></th>\n",
       "      <th>age</th>\n",
       "      <th>duration</th>\n",
       "      <th>campaign</th>\n",
       "      <th>pdays</th>\n",
       "      <th>previous</th>\n",
       "      <th>emp.var.rate</th>\n",
       "      <th>cons.price.idx</th>\n",
       "      <th>cons.conf.idx</th>\n",
       "      <th>euribor3m</th>\n",
       "      <th>nr.employed</th>\n",
       "    </tr>\n",
       "  </thead>\n",
       "  <tbody>\n",
       "    <tr>\n",
       "      <th>age</th>\n",
       "      <td>1.000000</td>\n",
       "      <td>-0.000866</td>\n",
       "      <td>0.004594</td>\n",
       "      <td>-0.034369</td>\n",
       "      <td>0.024365</td>\n",
       "      <td>-0.000371</td>\n",
       "      <td>0.000857</td>\n",
       "      <td>0.129372</td>\n",
       "      <td>0.010767</td>\n",
       "      <td>-0.017725</td>\n",
       "    </tr>\n",
       "    <tr>\n",
       "      <th>duration</th>\n",
       "      <td>-0.000866</td>\n",
       "      <td>1.000000</td>\n",
       "      <td>-0.071699</td>\n",
       "      <td>-0.047577</td>\n",
       "      <td>0.020640</td>\n",
       "      <td>-0.027968</td>\n",
       "      <td>0.005312</td>\n",
       "      <td>-0.008173</td>\n",
       "      <td>-0.032897</td>\n",
       "      <td>-0.044703</td>\n",
       "    </tr>\n",
       "    <tr>\n",
       "      <th>campaign</th>\n",
       "      <td>0.004594</td>\n",
       "      <td>-0.071699</td>\n",
       "      <td>1.000000</td>\n",
       "      <td>0.052584</td>\n",
       "      <td>-0.079141</td>\n",
       "      <td>0.150754</td>\n",
       "      <td>0.127836</td>\n",
       "      <td>-0.013733</td>\n",
       "      <td>0.135133</td>\n",
       "      <td>0.144095</td>\n",
       "    </tr>\n",
       "    <tr>\n",
       "      <th>pdays</th>\n",
       "      <td>-0.034369</td>\n",
       "      <td>-0.047577</td>\n",
       "      <td>0.052584</td>\n",
       "      <td>1.000000</td>\n",
       "      <td>-0.587514</td>\n",
       "      <td>0.271004</td>\n",
       "      <td>0.078889</td>\n",
       "      <td>-0.091342</td>\n",
       "      <td>0.296899</td>\n",
       "      <td>0.372605</td>\n",
       "    </tr>\n",
       "    <tr>\n",
       "      <th>previous</th>\n",
       "      <td>0.024365</td>\n",
       "      <td>0.020640</td>\n",
       "      <td>-0.079141</td>\n",
       "      <td>-0.587514</td>\n",
       "      <td>1.000000</td>\n",
       "      <td>-0.420489</td>\n",
       "      <td>-0.203130</td>\n",
       "      <td>-0.050936</td>\n",
       "      <td>-0.454494</td>\n",
       "      <td>-0.501333</td>\n",
       "    </tr>\n",
       "    <tr>\n",
       "      <th>emp.var.rate</th>\n",
       "      <td>-0.000371</td>\n",
       "      <td>-0.027968</td>\n",
       "      <td>0.150754</td>\n",
       "      <td>0.271004</td>\n",
       "      <td>-0.420489</td>\n",
       "      <td>1.000000</td>\n",
       "      <td>0.775334</td>\n",
       "      <td>0.196041</td>\n",
       "      <td>0.972245</td>\n",
       "      <td>0.906970</td>\n",
       "    </tr>\n",
       "    <tr>\n",
       "      <th>cons.price.idx</th>\n",
       "      <td>0.000857</td>\n",
       "      <td>0.005312</td>\n",
       "      <td>0.127836</td>\n",
       "      <td>0.078889</td>\n",
       "      <td>-0.203130</td>\n",
       "      <td>0.775334</td>\n",
       "      <td>1.000000</td>\n",
       "      <td>0.058986</td>\n",
       "      <td>0.688230</td>\n",
       "      <td>0.522034</td>\n",
       "    </tr>\n",
       "    <tr>\n",
       "      <th>cons.conf.idx</th>\n",
       "      <td>0.129372</td>\n",
       "      <td>-0.008173</td>\n",
       "      <td>-0.013733</td>\n",
       "      <td>-0.091342</td>\n",
       "      <td>-0.050936</td>\n",
       "      <td>0.196041</td>\n",
       "      <td>0.058986</td>\n",
       "      <td>1.000000</td>\n",
       "      <td>0.277686</td>\n",
       "      <td>0.100513</td>\n",
       "    </tr>\n",
       "    <tr>\n",
       "      <th>euribor3m</th>\n",
       "      <td>0.010767</td>\n",
       "      <td>-0.032897</td>\n",
       "      <td>0.135133</td>\n",
       "      <td>0.296899</td>\n",
       "      <td>-0.454494</td>\n",
       "      <td>0.972245</td>\n",
       "      <td>0.688230</td>\n",
       "      <td>0.277686</td>\n",
       "      <td>1.000000</td>\n",
       "      <td>0.945154</td>\n",
       "    </tr>\n",
       "    <tr>\n",
       "      <th>nr.employed</th>\n",
       "      <td>-0.017725</td>\n",
       "      <td>-0.044703</td>\n",
       "      <td>0.144095</td>\n",
       "      <td>0.372605</td>\n",
       "      <td>-0.501333</td>\n",
       "      <td>0.906970</td>\n",
       "      <td>0.522034</td>\n",
       "      <td>0.100513</td>\n",
       "      <td>0.945154</td>\n",
       "      <td>1.000000</td>\n",
       "    </tr>\n",
       "  </tbody>\n",
       "</table>\n",
       "</div>"
      ],
      "text/plain": [
       "                     age  duration  campaign     pdays  previous  \\\n",
       "age             1.000000 -0.000866  0.004594 -0.034369  0.024365   \n",
       "duration       -0.000866  1.000000 -0.071699 -0.047577  0.020640   \n",
       "campaign        0.004594 -0.071699  1.000000  0.052584 -0.079141   \n",
       "pdays          -0.034369 -0.047577  0.052584  1.000000 -0.587514   \n",
       "previous        0.024365  0.020640 -0.079141 -0.587514  1.000000   \n",
       "emp.var.rate   -0.000371 -0.027968  0.150754  0.271004 -0.420489   \n",
       "cons.price.idx  0.000857  0.005312  0.127836  0.078889 -0.203130   \n",
       "cons.conf.idx   0.129372 -0.008173 -0.013733 -0.091342 -0.050936   \n",
       "euribor3m       0.010767 -0.032897  0.135133  0.296899 -0.454494   \n",
       "nr.employed    -0.017725 -0.044703  0.144095  0.372605 -0.501333   \n",
       "\n",
       "                emp.var.rate  cons.price.idx  cons.conf.idx  euribor3m  \\\n",
       "age                -0.000371        0.000857       0.129372   0.010767   \n",
       "duration           -0.027968        0.005312      -0.008173  -0.032897   \n",
       "campaign            0.150754        0.127836      -0.013733   0.135133   \n",
       "pdays               0.271004        0.078889      -0.091342   0.296899   \n",
       "previous           -0.420489       -0.203130      -0.050936  -0.454494   \n",
       "emp.var.rate        1.000000        0.775334       0.196041   0.972245   \n",
       "cons.price.idx      0.775334        1.000000       0.058986   0.688230   \n",
       "cons.conf.idx       0.196041        0.058986       1.000000   0.277686   \n",
       "euribor3m           0.972245        0.688230       0.277686   1.000000   \n",
       "nr.employed         0.906970        0.522034       0.100513   0.945154   \n",
       "\n",
       "                nr.employed  \n",
       "age               -0.017725  \n",
       "duration          -0.044703  \n",
       "campaign           0.144095  \n",
       "pdays              0.372605  \n",
       "previous          -0.501333  \n",
       "emp.var.rate       0.906970  \n",
       "cons.price.idx     0.522034  \n",
       "cons.conf.idx      0.100513  \n",
       "euribor3m          0.945154  \n",
       "nr.employed        1.000000  "
      ]
     },
     "execution_count": 6,
     "metadata": {},
     "output_type": "execute_result"
    }
   ],
   "source": [
    "df1.corr()"
   ]
  },
  {
   "cell_type": "code",
   "execution_count": 7,
   "metadata": {},
   "outputs": [
    {
     "data": {
      "text/plain": [
       "<AxesSubplot:>"
      ]
     },
     "execution_count": 7,
     "metadata": {},
     "output_type": "execute_result"
    },
    {
     "data": {
      "image/png": "[encoded data removed]",
      "text/plain": [
       "<Figure size 432x288 with 2 Axes>"
      ]
     },
     "metadata": {
      "needs_background": "light"
     },
     "output_type": "display_data"
    }
   ],
   "source": [
    "# heatmap of correlation matrix\n",
    "corr = df1.corr()\n",
    "\n",
    "sns.heatmap(corr)"
   ]
  },
  {
   "cell_type": "markdown",
   "metadata": {},
   "source": [
    "### 3.2 Find missing value"
   ]
  },
  {
   "cell_type": "code",
   "execution_count": 8,
   "metadata": {},
   "outputs": [
    {
     "data": {
      "text/plain": [
       "age               0\n",
       "job               0\n",
       "marital           0\n",
       "education         0\n",
       "default           0\n",
       "housing           0\n",
       "loan              0\n",
       "contact           0\n",
       "month             0\n",
       "day_of_week       0\n",
       "duration          0\n",
       "campaign          0\n",
       "pdays             0\n",
       "previous          0\n",
       "poutcome          0\n",
       "emp.var.rate      0\n",
       "cons.price.idx    0\n",
       "cons.conf.idx     0\n",
       "euribor3m         0\n",
       "nr.employed       0\n",
       "y                 0\n",
       "dtype: int64"
      ]
     },
     "execution_count": 8,
     "metadata": {},
     "output_type": "execute_result"
    }
   ],
   "source": [
    "df.isnull().sum(axis = 0)"
   ]
  },
  {
   "cell_type": "markdown",
   "metadata": {},
   "source": [
    "### 3.3 Plot Boxplot to understand the signifance of outliers "
   ]
  },
  {
   "cell_type": "code",
   "execution_count": 9,
   "metadata": {},
   "outputs": [
    {
     "data": {
      "image/png": "[encoded data removed]",
      "text/plain": [
       "<Figure size 720x360 with 3 Axes>"
      ]
     },
     "metadata": {
      "needs_background": "light"
     },
     "output_type": "display_data"
    }
   ],
   "source": [
    "# Using Seaborn that's built on top of matplotlib \n",
    "\n",
    "fig, axes = plt.subplots(1, 3)\n",
    "fig.set_size_inches(10, 5)\n",
    "\n",
    "sns.boxplot(x=df1['age'], ax=axes[0])\n",
    "axes[0].set_title('Age')\n",
    "\n",
    "sns.boxplot(x=df1['campaign'], ax=axes[1])\n",
    "axes[1].set_title('Campaign')\n",
    "\n",
    "sns.boxplot(x=df1['previous'], ax=axes[2])\n",
    "axes[2].set_title('previous')\n",
    "\n",
    "plt.show()"
   ]
  },
  {
   "cell_type": "markdown",
   "metadata": {},
   "source": [
    "#### Observation\n",
    "* There aren't any outlier to consider."
   ]
  },
  {
   "cell_type": "markdown",
   "metadata": {},
   "source": [
    "### 3.4 Distribution of other features"
   ]
  },
  {
   "cell_type": "code",
   "execution_count": 10,
   "metadata": {},
   "outputs": [
    {
     "name": "stdout",
     "output_type": "stream",
     "text": [
      "Distribution of continuous columns\n"
     ]
    },
    {
     "data": {
      "text/html": [
       "<div>\n",
       "<style scoped>\n",
       "    .dataframe tbody tr th:only-of-type {\n",
       "        vertical-align: middle;\n",
       "    }\n",
       "\n",
       "    .dataframe tbody tr th {\n",
       "        vertical-align: top;\n",
       "    }\n",
       "\n",
       "    .dataframe thead th {\n",
       "        text-align: right;\n",
       "    }\n",
       "</style>\n",
       "<table border=\"1\" class=\"dataframe\">\n",
       "  <thead>\n",
       "    <tr style=\"text-align: right;\">\n",
       "      <th></th>\n",
       "      <th>age</th>\n",
       "      <th>duration</th>\n",
       "      <th>campaign</th>\n",
       "      <th>pdays</th>\n",
       "      <th>previous</th>\n",
       "      <th>emp.var.rate</th>\n",
       "      <th>cons.price.idx</th>\n",
       "      <th>cons.conf.idx</th>\n",
       "      <th>euribor3m</th>\n",
       "      <th>nr.employed</th>\n",
       "    </tr>\n",
       "  </thead>\n",
       "  <tbody>\n",
       "    <tr>\n",
       "      <th>count</th>\n",
       "      <td>41188.00000</td>\n",
       "      <td>41188.000000</td>\n",
       "      <td>41188.000000</td>\n",
       "      <td>41188.000000</td>\n",
       "      <td>41188.000000</td>\n",
       "      <td>41188.000000</td>\n",
       "      <td>41188.000000</td>\n",
       "      <td>41188.000000</td>\n",
       "      <td>41188.000000</td>\n",
       "      <td>41188.000000</td>\n",
       "    </tr>\n",
       "    <tr>\n",
       "      <th>mean</th>\n",
       "      <td>40.02406</td>\n",
       "      <td>258.285010</td>\n",
       "      <td>2.567593</td>\n",
       "      <td>962.475454</td>\n",
       "      <td>0.172963</td>\n",
       "      <td>0.081886</td>\n",
       "      <td>93.575664</td>\n",
       "      <td>-40.502600</td>\n",
       "      <td>3.621291</td>\n",
       "      <td>5167.035911</td>\n",
       "    </tr>\n",
       "    <tr>\n",
       "      <th>std</th>\n",
       "      <td>10.42125</td>\n",
       "      <td>259.279249</td>\n",
       "      <td>2.770014</td>\n",
       "      <td>186.910907</td>\n",
       "      <td>0.494901</td>\n",
       "      <td>1.570960</td>\n",
       "      <td>0.578840</td>\n",
       "      <td>4.628198</td>\n",
       "      <td>1.734447</td>\n",
       "      <td>72.251528</td>\n",
       "    </tr>\n",
       "    <tr>\n",
       "      <th>min</th>\n",
       "      <td>17.00000</td>\n",
       "      <td>0.000000</td>\n",
       "      <td>1.000000</td>\n",
       "      <td>0.000000</td>\n",
       "      <td>0.000000</td>\n",
       "      <td>-3.400000</td>\n",
       "      <td>92.201000</td>\n",
       "      <td>-50.800000</td>\n",
       "      <td>0.634000</td>\n",
       "      <td>4963.600000</td>\n",
       "    </tr>\n",
       "    <tr>\n",
       "      <th>25%</th>\n",
       "      <td>32.00000</td>\n",
       "      <td>102.000000</td>\n",
       "      <td>1.000000</td>\n",
       "      <td>999.000000</td>\n",
       "      <td>0.000000</td>\n",
       "      <td>-1.800000</td>\n",
       "      <td>93.075000</td>\n",
       "      <td>-42.700000</td>\n",
       "      <td>1.344000</td>\n",
       "      <td>5099.100000</td>\n",
       "    </tr>\n",
       "    <tr>\n",
       "      <th>50%</th>\n",
       "      <td>38.00000</td>\n",
       "      <td>180.000000</td>\n",
       "      <td>2.000000</td>\n",
       "      <td>999.000000</td>\n",
       "      <td>0.000000</td>\n",
       "      <td>1.100000</td>\n",
       "      <td>93.749000</td>\n",
       "      <td>-41.800000</td>\n",
       "      <td>4.857000</td>\n",
       "      <td>5191.000000</td>\n",
       "    </tr>\n",
       "    <tr>\n",
       "      <th>75%</th>\n",
       "      <td>47.00000</td>\n",
       "      <td>319.000000</td>\n",
       "      <td>3.000000</td>\n",
       "      <td>999.000000</td>\n",
       "      <td>0.000000</td>\n",
       "      <td>1.400000</td>\n",
       "      <td>93.994000</td>\n",
       "      <td>-36.400000</td>\n",
       "      <td>4.961000</td>\n",
       "      <td>5228.100000</td>\n",
       "    </tr>\n",
       "    <tr>\n",
       "      <th>max</th>\n",
       "      <td>98.00000</td>\n",
       "      <td>4918.000000</td>\n",
       "      <td>56.000000</td>\n",
       "      <td>999.000000</td>\n",
       "      <td>7.000000</td>\n",
       "      <td>1.400000</td>\n",
       "      <td>94.767000</td>\n",
       "      <td>-26.900000</td>\n",
       "      <td>5.045000</td>\n",
       "      <td>5228.100000</td>\n",
       "    </tr>\n",
       "  </tbody>\n",
       "</table>\n",
       "</div>"
      ],
      "text/plain": [
       "               age      duration      campaign         pdays      previous  \\\n",
       "count  41188.00000  41188.000000  41188.000000  41188.000000  41188.000000   \n",
       "mean      40.02406    258.285010      2.567593    962.475454      0.172963   \n",
       "std       10.42125    259.279249      2.770014    186.910907      0.494901   \n",
       "min       17.00000      0.000000      1.000000      0.000000      0.000000   \n",
       "25%       32.00000    102.000000      1.000000    999.000000      0.000000   \n",
       "50%       38.00000    180.000000      2.000000    999.000000      0.000000   \n",
       "75%       47.00000    319.000000      3.000000    999.000000      0.000000   \n",
       "max       98.00000   4918.000000     56.000000    999.000000      7.000000   \n",
       "\n",
       "       emp.var.rate  cons.price.idx  cons.conf.idx     euribor3m   nr.employed  \n",
       "count  41188.000000    41188.000000   41188.000000  41188.000000  41188.000000  \n",
       "mean       0.081886       93.575664     -40.502600      3.621291   5167.035911  \n",
       "std        1.570960        0.578840       4.628198      1.734447     72.251528  \n",
       "min       -3.400000       92.201000     -50.800000      0.634000   4963.600000  \n",
       "25%       -1.800000       93.075000     -42.700000      1.344000   5099.100000  \n",
       "50%        1.100000       93.749000     -41.800000      4.857000   5191.000000  \n",
       "75%        1.400000       93.994000     -36.400000      4.961000   5228.100000  \n",
       "max        1.400000       94.767000     -26.900000      5.045000   5228.100000  "
      ]
     },
     "execution_count": 10,
     "metadata": {},
     "output_type": "execute_result"
    }
   ],
   "source": [
    "# Let's segreate the categorical and continuous columns to better understand the distribution \n",
    "\n",
    "print('Distribution of continuous columns')\n",
    "df1.describe() # continous columns "
   ]
  },
  {
   "cell_type": "markdown",
   "metadata": {},
   "source": [
    "* Except columns pdays and previous rest looks pretty well distributed. "
   ]
  },
  {
   "cell_type": "code",
   "execution_count": 11,
   "metadata": {},
   "outputs": [
    {
     "name": "stdout",
     "output_type": "stream",
     "text": [
      "Distribution of categorical columns\n"
     ]
    },
    {
     "data": {
      "text/html": [
       "<div>\n",
       "<style scoped>\n",
       "    .dataframe tbody tr th:only-of-type {\n",
       "        vertical-align: middle;\n",
       "    }\n",
       "\n",
       "    .dataframe tbody tr th {\n",
       "        vertical-align: top;\n",
       "    }\n",
       "\n",
       "    .dataframe thead th {\n",
       "        text-align: right;\n",
       "    }\n",
       "</style>\n",
       "<table border=\"1\" class=\"dataframe\">\n",
       "  <thead>\n",
       "    <tr style=\"text-align: right;\">\n",
       "      <th></th>\n",
       "      <th>job</th>\n",
       "      <th>marital</th>\n",
       "      <th>education</th>\n",
       "      <th>default</th>\n",
       "      <th>housing</th>\n",
       "      <th>loan</th>\n",
       "      <th>contact</th>\n",
       "      <th>month</th>\n",
       "      <th>day_of_week</th>\n",
       "      <th>poutcome</th>\n",
       "      <th>y</th>\n",
       "    </tr>\n",
       "  </thead>\n",
       "  <tbody>\n",
       "    <tr>\n",
       "      <th>count</th>\n",
       "      <td>41188</td>\n",
       "      <td>41188</td>\n",
       "      <td>41188</td>\n",
       "      <td>41188</td>\n",
       "      <td>41188</td>\n",
       "      <td>41188</td>\n",
       "      <td>41188</td>\n",
       "      <td>41188</td>\n",
       "      <td>41188</td>\n",
       "      <td>41188</td>\n",
       "      <td>41188</td>\n",
       "    </tr>\n",
       "    <tr>\n",
       "      <th>unique</th>\n",
       "      <td>12</td>\n",
       "      <td>4</td>\n",
       "      <td>8</td>\n",
       "      <td>3</td>\n",
       "      <td>3</td>\n",
       "      <td>3</td>\n",
       "      <td>2</td>\n",
       "      <td>10</td>\n",
       "      <td>5</td>\n",
       "      <td>3</td>\n",
       "      <td>2</td>\n",
       "    </tr>\n",
       "    <tr>\n",
       "      <th>top</th>\n",
       "      <td>admin.</td>\n",
       "      <td>married</td>\n",
       "      <td>university.degree</td>\n",
       "      <td>no</td>\n",
       "      <td>yes</td>\n",
       "      <td>no</td>\n",
       "      <td>cellular</td>\n",
       "      <td>may</td>\n",
       "      <td>thu</td>\n",
       "      <td>nonexistent</td>\n",
       "      <td>no</td>\n",
       "    </tr>\n",
       "    <tr>\n",
       "      <th>freq</th>\n",
       "      <td>10422</td>\n",
       "      <td>24928</td>\n",
       "      <td>12168</td>\n",
       "      <td>32588</td>\n",
       "      <td>21576</td>\n",
       "      <td>33950</td>\n",
       "      <td>26144</td>\n",
       "      <td>13769</td>\n",
       "      <td>8623</td>\n",
       "      <td>35563</td>\n",
       "      <td>36548</td>\n",
       "    </tr>\n",
       "  </tbody>\n",
       "</table>\n",
       "</div>"
      ],
      "text/plain": [
       "           job  marital          education default housing   loan   contact  \\\n",
       "count    41188    41188              41188   41188   41188  41188     41188   \n",
       "unique      12        4                  8       3       3      3         2   \n",
       "top     admin.  married  university.degree      no     yes     no  cellular   \n",
       "freq     10422    24928              12168   32588   21576  33950     26144   \n",
       "\n",
       "        month day_of_week     poutcome      y  \n",
       "count   41188       41188        41188  41188  \n",
       "unique     10           5            3      2  \n",
       "top       may         thu  nonexistent     no  \n",
       "freq    13769        8623        35563  36548  "
      ]
     },
     "execution_count": 11,
     "metadata": {},
     "output_type": "execute_result"
    }
   ],
   "source": [
    "print('Distribution of categorical columns')\n",
    "df1.describe(include='object')\n",
    "\n",
    "#Categorical columns look pretty neat. "
   ]
  },
  {
   "cell_type": "code",
   "execution_count": 12,
   "metadata": {},
   "outputs": [],
   "source": [
    "continuous_features = df1.describe().columns\n",
    "categorical_features = df1.describe(include=[\"object\"]).columns \n",
    "\n",
    "# 10 categorical columns excluding the dependent variable. "
   ]
  },
  {
   "cell_type": "code",
   "execution_count": 13,
   "metadata": {},
   "outputs": [
    {
     "data": {
      "text/plain": [
       "pandas.core.indexes.base.Index"
      ]
     },
     "execution_count": 13,
     "metadata": {},
     "output_type": "execute_result"
    }
   ],
   "source": [
    "type(categorical_features)"
   ]
  },
  {
   "cell_type": "code",
   "execution_count": 33,
   "metadata": {},
   "outputs": [
    {
     "data": {
      "text/plain": [
       "Index(['age', 'duration', 'campaign', 'pdays', 'previous', 'emp.var.rate',\n",
       "       'cons.price.idx', 'cons.conf.idx', 'euribor3m', 'nr.employed'],\n",
       "      dtype='object')"
      ]
     },
     "execution_count": 33,
     "metadata": {},
     "output_type": "execute_result"
    }
   ],
   "source": [
    "continuous_features"
   ]
  },
  {
   "cell_type": "markdown",
   "metadata": {},
   "source": [
    "#### Plot Categorical columns"
   ]
  },
  {
   "cell_type": "code",
   "execution_count": 14,
   "metadata": {},
   "outputs": [
    {
     "data": {
      "image/png": "[encoded data removed]",
      "text/plain": [
       "<Figure size 1800x1800 with 12 Axes>"
      ]
     },
     "metadata": {
      "needs_background": "light"
     },
     "output_type": "display_data"
    }
   ],
   "source": [
    "fig, axes = plt.subplots(4, 3, figsize=(25, 25))\n",
    "\n",
    "for i, ax in enumerate(axes.ravel()):\n",
    "    if i > 9:    # the code is checking if i > 9 is to make sure that the loop only iterates over the first 10 elements of the categorical_features list.\n",
    "        ax.set_visible(False) # the code is setting the visibility of the current subplot (ax) to False if i > 9. This means that the subplot will not be visible when the plot is displayed.\n",
    "        continue\n",
    "    sns.countplot(y = categorical_features[i], data=df1, ax=ax)"
   ]
  },
  {
   "cell_type": "markdown",
   "metadata": {},
   "source": [
    "##### Observation\n",
    "* seaborn.countplot() method is used to Show the counts of observations in each categorical bin using bars\n",
    "* Analyzing the plot reveals the entry of the \"unknown,\"  which could be analogous to null values, meaning it doesn't have any significance. \n",
    "* The graphs' format could be better, so we will consider it a future enhancement."
   ]
  },
  {
   "cell_type": "markdown",
   "metadata": {},
   "source": [
    "#### Plot Continuous columns"
   ]
  },
  {
   "cell_type": "code",
   "execution_count": 15,
   "metadata": {},
   "outputs": [
    {
     "data": {
      "image/png": "[encoded data removed]",
      "text/plain": [
       "<Figure size 1440x1440 with 12 Axes>"
      ]
     },
     "metadata": {
      "needs_background": "light"
     },
     "output_type": "display_data"
    }
   ],
   "source": [
    "dist = df1.hist(column=continuous_features, figsize = (20,20))"
   ]
  },
  {
   "cell_type": "markdown",
   "metadata": {},
   "source": [
    "* The continuous/numeric columns are not on the same scale so we will have transform is before building the model."
   ]
  },
  {
   "cell_type": "markdown",
   "metadata": {},
   "source": [
    "### Problem 4: Understanding the Task\n",
    "\n",
    "After examining the description and data, your goal now is to clearly state the *Business Objective* of the task.  State the objective below."
   ]
  },
  {
   "cell_type": "code",
   "execution_count": 16,
   "metadata": {},
   "outputs": [
    {
     "name": "stdout",
     "output_type": "stream",
     "text": [
      "<class 'pandas.core.frame.DataFrame'>\n",
      "RangeIndex: 41188 entries, 0 to 41187\n",
      "Data columns (total 21 columns):\n",
      " #   Column          Non-Null Count  Dtype  \n",
      "---  ------          --------------  -----  \n",
      " 0   age             41188 non-null  int64  \n",
      " 1   job             41188 non-null  object \n",
      " 2   marital         41188 non-null  object \n",
      " 3   education       41188 non-null  object \n",
      " 4   default         41188 non-null  object \n",
      " 5   housing         41188 non-null  object \n",
      " 6   loan            41188 non-null  object \n",
      " 7   contact         41188 non-null  object \n",
      " 8   month           41188 non-null  object \n",
      " 9   day_of_week     41188 non-null  object \n",
      " 10  duration        41188 non-null  int64  \n",
      " 11  campaign        41188 non-null  int64  \n",
      " 12  pdays           41188 non-null  int64  \n",
      " 13  previous        41188 non-null  int64  \n",
      " 14  poutcome        41188 non-null  object \n",
      " 15  emp.var.rate    41188 non-null  float64\n",
      " 16  cons.price.idx  41188 non-null  float64\n",
      " 17  cons.conf.idx   41188 non-null  float64\n",
      " 18  euribor3m       41188 non-null  float64\n",
      " 19  nr.employed     41188 non-null  float64\n",
      " 20  y               41188 non-null  object \n",
      "dtypes: float64(5), int64(5), object(11)\n",
      "memory usage: 6.6+ MB\n"
     ]
    }
   ],
   "source": [
    "df.info()"
   ]
  },
  {
   "cell_type": "code",
   "execution_count": null,
   "metadata": {},
   "outputs": [],
   "source": []
  },
  {
   "cell_type": "code",
   "execution_count": 21,
   "metadata": {},
   "outputs": [
    {
     "data": {
      "text/plain": [
       "Index(['job', 'marital', 'education', 'default', 'housing', 'loan', 'contact',\n",
       "       'month', 'day_of_week', 'poutcome', 'y'],\n",
       "      dtype='object')"
      ]
     },
     "execution_count": 21,
     "metadata": {},
     "output_type": "execute_result"
    }
   ],
   "source": [
    "categorical_features"
   ]
  },
  {
   "cell_type": "markdown",
   "metadata": {},
   "source": [
    "### Problem 5: Engineering Features\n",
    "\n",
    "Now that you understand your business objective, we will build a basic model to get started.  Before we can do this, we must work to encode the data.  Using just the bank information features (columns 1 - 7), prepare the features and target column for modeling with appropriate encoding and transformations."
   ]
  },
  {
   "cell_type": "markdown",
   "metadata": {},
   "source": [
    "### 5.1 Remove \"unknown\" values\n",
    "* The distribution of values \"unknown\" seems less except in the column \"default,\" so it seems safe to delete the entry. For the column \"default,\" we will find a different way. "
   ]
  },
  {
   "cell_type": "code",
   "execution_count": 17,
   "metadata": {},
   "outputs": [],
   "source": [
    "# unknown_rows = df1[df1.isin([\"unknown\"]).any(axis=1)]\n",
    "# categorical_features_df = unknown_rows[categorical_features]\n",
    "# display(categorical_features_df)\n",
    "#df.loc[(df['job'] == \"unknown\") | (df['marital'] == \"unknown\") | \n",
    " #      (df['education'] == \"unknown\") | (df['default'] == \"unknown\"), categorical_features]\n",
    "#df.loc[df[['job', 'marital', 'education', 'default']].isin([\"unknown\"]).any(axis=1), categorical_features]\n",
    "\n",
    "#df[categorical_features]\n",
    "\n",
    "df_remunkown = df.loc[(df['job'] != \"unknown\") & (df['marital'] != \"unknown\") & (df['education'] != \"unknown\")  \n",
    "             & (df['default'] != \"unknown\") & (df['housing'] != \"unknown\") ]\n"
   ]
  },
  {
   "cell_type": "code",
   "execution_count": 18,
   "metadata": {},
   "outputs": [
    {
     "data": {
      "image/png": "[encoded data removed]",
      "text/plain": [
       "<Figure size 1800x1800 with 12 Axes>"
      ]
     },
     "metadata": {
      "needs_background": "light"
     },
     "output_type": "display_data"
    }
   ],
   "source": [
    "fig, axes = plt.subplots(4, 3, figsize=(25, 25))\n",
    "\n",
    "for i, ax in enumerate(axes.ravel()):\n",
    "    if i > 9:    # the code is checking if i > 9 is to make sure that the loop only iterates over the first 10 elements of the categorical_features list.\n",
    "        ax.set_visible(False) # the code is setting the visibility of the current subplot (ax) to False if i > 9. This means that the subplot will not be visible when the plot is displayed.\n",
    "        continue\n",
    "    sns.countplot(y = categorical_features[i], data=df_remunkown, ax=ax)"
   ]
  },
  {
   "cell_type": "markdown",
   "metadata": {},
   "source": [
    "* There are no \"unknown\" in the data as evident in the graph. "
   ]
  },
  {
   "cell_type": "code",
   "execution_count": 20,
   "metadata": {},
   "outputs": [
    {
     "data": {
      "text/plain": [
       "Index(['job', 'marital', 'education', 'default', 'housing', 'loan', 'contact',\n",
       "       'month', 'day_of_week', 'poutcome', 'y'],\n",
       "      dtype='object')"
      ]
     },
     "execution_count": 20,
     "metadata": {},
     "output_type": "execute_result"
    }
   ],
   "source": [
    "categorical_features"
   ]
  },
  {
   "cell_type": "markdown",
   "metadata": {},
   "source": [
    "### 5.2 Use One-hot Encoding to convert categorical variables to numerical variables "
   ]
  },
  {
   "cell_type": "code",
   "execution_count": 28,
   "metadata": {},
   "outputs": [
    {
     "data": {
      "text/html": [
       "<div>\n",
       "<style scoped>\n",
       "    .dataframe tbody tr th:only-of-type {\n",
       "        vertical-align: middle;\n",
       "    }\n",
       "\n",
       "    .dataframe tbody tr th {\n",
       "        vertical-align: top;\n",
       "    }\n",
       "\n",
       "    .dataframe thead th {\n",
       "        text-align: right;\n",
       "    }\n",
       "</style>\n",
       "<table border=\"1\" class=\"dataframe\">\n",
       "  <thead>\n",
       "    <tr style=\"text-align: right;\">\n",
       "      <th></th>\n",
       "      <th>age</th>\n",
       "      <th>duration</th>\n",
       "      <th>campaign</th>\n",
       "      <th>pdays</th>\n",
       "      <th>previous</th>\n",
       "      <th>emp.var.rate</th>\n",
       "      <th>cons.price.idx</th>\n",
       "      <th>cons.conf.idx</th>\n",
       "      <th>euribor3m</th>\n",
       "      <th>nr.employed</th>\n",
       "      <th>...</th>\n",
       "      <th>month_oct</th>\n",
       "      <th>month_sep</th>\n",
       "      <th>day_of_week_fri</th>\n",
       "      <th>day_of_week_mon</th>\n",
       "      <th>day_of_week_thu</th>\n",
       "      <th>day_of_week_tue</th>\n",
       "      <th>day_of_week_wed</th>\n",
       "      <th>poutcome_failure</th>\n",
       "      <th>poutcome_nonexistent</th>\n",
       "      <th>poutcome_success</th>\n",
       "    </tr>\n",
       "  </thead>\n",
       "  <tbody>\n",
       "    <tr>\n",
       "      <th>0</th>\n",
       "      <td>56</td>\n",
       "      <td>261</td>\n",
       "      <td>1</td>\n",
       "      <td>999</td>\n",
       "      <td>0</td>\n",
       "      <td>1.1</td>\n",
       "      <td>93.994</td>\n",
       "      <td>-36.4</td>\n",
       "      <td>4.857</td>\n",
       "      <td>5191.0</td>\n",
       "      <td>...</td>\n",
       "      <td>0</td>\n",
       "      <td>0</td>\n",
       "      <td>0</td>\n",
       "      <td>1</td>\n",
       "      <td>0</td>\n",
       "      <td>0</td>\n",
       "      <td>0</td>\n",
       "      <td>0</td>\n",
       "      <td>1</td>\n",
       "      <td>0</td>\n",
       "    </tr>\n",
       "    <tr>\n",
       "      <th>2</th>\n",
       "      <td>37</td>\n",
       "      <td>226</td>\n",
       "      <td>1</td>\n",
       "      <td>999</td>\n",
       "      <td>0</td>\n",
       "      <td>1.1</td>\n",
       "      <td>93.994</td>\n",
       "      <td>-36.4</td>\n",
       "      <td>4.857</td>\n",
       "      <td>5191.0</td>\n",
       "      <td>...</td>\n",
       "      <td>0</td>\n",
       "      <td>0</td>\n",
       "      <td>0</td>\n",
       "      <td>1</td>\n",
       "      <td>0</td>\n",
       "      <td>0</td>\n",
       "      <td>0</td>\n",
       "      <td>0</td>\n",
       "      <td>1</td>\n",
       "      <td>0</td>\n",
       "    </tr>\n",
       "    <tr>\n",
       "      <th>3</th>\n",
       "      <td>40</td>\n",
       "      <td>151</td>\n",
       "      <td>1</td>\n",
       "      <td>999</td>\n",
       "      <td>0</td>\n",
       "      <td>1.1</td>\n",
       "      <td>93.994</td>\n",
       "      <td>-36.4</td>\n",
       "      <td>4.857</td>\n",
       "      <td>5191.0</td>\n",
       "      <td>...</td>\n",
       "      <td>0</td>\n",
       "      <td>0</td>\n",
       "      <td>0</td>\n",
       "      <td>1</td>\n",
       "      <td>0</td>\n",
       "      <td>0</td>\n",
       "      <td>0</td>\n",
       "      <td>0</td>\n",
       "      <td>1</td>\n",
       "      <td>0</td>\n",
       "    </tr>\n",
       "    <tr>\n",
       "      <th>4</th>\n",
       "      <td>56</td>\n",
       "      <td>307</td>\n",
       "      <td>1</td>\n",
       "      <td>999</td>\n",
       "      <td>0</td>\n",
       "      <td>1.1</td>\n",
       "      <td>93.994</td>\n",
       "      <td>-36.4</td>\n",
       "      <td>4.857</td>\n",
       "      <td>5191.0</td>\n",
       "      <td>...</td>\n",
       "      <td>0</td>\n",
       "      <td>0</td>\n",
       "      <td>0</td>\n",
       "      <td>1</td>\n",
       "      <td>0</td>\n",
       "      <td>0</td>\n",
       "      <td>0</td>\n",
       "      <td>0</td>\n",
       "      <td>1</td>\n",
       "      <td>0</td>\n",
       "    </tr>\n",
       "    <tr>\n",
       "      <th>6</th>\n",
       "      <td>59</td>\n",
       "      <td>139</td>\n",
       "      <td>1</td>\n",
       "      <td>999</td>\n",
       "      <td>0</td>\n",
       "      <td>1.1</td>\n",
       "      <td>93.994</td>\n",
       "      <td>-36.4</td>\n",
       "      <td>4.857</td>\n",
       "      <td>5191.0</td>\n",
       "      <td>...</td>\n",
       "      <td>0</td>\n",
       "      <td>0</td>\n",
       "      <td>0</td>\n",
       "      <td>1</td>\n",
       "      <td>0</td>\n",
       "      <td>0</td>\n",
       "      <td>0</td>\n",
       "      <td>0</td>\n",
       "      <td>1</td>\n",
       "      <td>0</td>\n",
       "    </tr>\n",
       "  </tbody>\n",
       "</table>\n",
       "<p>5 rows × 58 columns</p>\n",
       "</div>"
      ],
      "text/plain": [
       "   age  duration  campaign  pdays  previous  emp.var.rate  cons.price.idx  \\\n",
       "0   56       261         1    999         0           1.1          93.994   \n",
       "2   37       226         1    999         0           1.1          93.994   \n",
       "3   40       151         1    999         0           1.1          93.994   \n",
       "4   56       307         1    999         0           1.1          93.994   \n",
       "6   59       139         1    999         0           1.1          93.994   \n",
       "\n",
       "   cons.conf.idx  euribor3m  nr.employed  ... month_oct  month_sep  \\\n",
       "0          -36.4      4.857       5191.0  ...         0          0   \n",
       "2          -36.4      4.857       5191.0  ...         0          0   \n",
       "3          -36.4      4.857       5191.0  ...         0          0   \n",
       "4          -36.4      4.857       5191.0  ...         0          0   \n",
       "6          -36.4      4.857       5191.0  ...         0          0   \n",
       "\n",
       "   day_of_week_fri  day_of_week_mon  day_of_week_thu  day_of_week_tue  \\\n",
       "0                0                1                0                0   \n",
       "2                0                1                0                0   \n",
       "3                0                1                0                0   \n",
       "4                0                1                0                0   \n",
       "6                0                1                0                0   \n",
       "\n",
       "   day_of_week_wed  poutcome_failure  poutcome_nonexistent  poutcome_success  \n",
       "0                0                 0                     1                 0  \n",
       "2                0                 0                     1                 0  \n",
       "3                0                 0                     1                 0  \n",
       "4                0                 0                     1                 0  \n",
       "6                0                 0                     1                 0  \n",
       "\n",
       "[5 rows x 58 columns]"
      ]
     },
     "execution_count": 28,
     "metadata": {},
     "output_type": "execute_result"
    }
   ],
   "source": [
    "# Filter out the categorical features\n",
    "categorical_features = [\"job\", \"marital\", \"education\", \"default\", \"housing\", \"loan\", \"contact\", \"month\", \"day_of_week\", \"poutcome\"]\n",
    "categorical_data = df_remunkown[categorical_features]\n",
    "\n",
    "# Use the pandas get_dummies function to convert the categorical variables to one-hot encoded variables\n",
    "encoded_data = pd.get_dummies(categorical_data)\n",
    "\n",
    "# Concatenate the one-hot encoded variables back onto the original data\n",
    "encoded_data_final = pd.concat([df_remunkown, encoded_data], axis=1)\n",
    "\n",
    "# Drop the original categorical variables from the data\n",
    "encoded_data_final = encoded_data_final.drop(categorical_features, axis=1)\n",
    "encoded_data_final.head()\n"
   ]
  },
  {
   "cell_type": "markdown",
   "metadata": {},
   "source": [
    "### 5.3 Transformation of dataset"
   ]
  },
  {
   "cell_type": "markdown",
   "metadata": {},
   "source": [
    "* Standardization scales the data to have a mean of 0 and a standard deviation of 1. It is achieved by subtracting the mean of the feature and dividing it by the standard deviation of the feature. \n",
    "* Normalization scales the data to be in the range of 0,1. This is done by subtracting the minimum value of the feature and dividing by the range of the feature.\n",
    "* Some models, like K-nearest neighbor and Logistic regression models, are sensitive to the scale of the features and can lead to inaccurate prediction if features are on a different scale, , so normalization may be beneficial\n",
    "* Algorithms such as logistic regression assume that the features are on a similar scale, so standardization may be more appropriate.\n"
   ]
  },
  {
   "cell_type": "code",
   "execution_count": 39,
   "metadata": {},
   "outputs": [
    {
     "data": {
      "text/plain": [
       "(ColumnTransformer(transformers=[('num', StandardScaler(),\n",
       "                                  Index(['age', 'campaign', 'cons.conf.idx', 'cons.price.idx', 'duration',\n",
       "        'emp.var.rate', 'euribor3m', 'nr.employed', 'pdays', 'previous'],\n",
       "       dtype='object')),\n",
       "                                 ('cat', OneHotEncoder(),\n",
       "                                  ['job', 'marital', 'education', 'default',\n",
       "                                   'housing', 'loan', 'contact', 'month',\n",
       "                                   'day_of_week', 'poutcome'])]),\n",
       " ColumnTransformer(transformers=[('num', MinMaxScaler(),\n",
       "                                  Index(['age', 'campaign', 'cons.conf.idx', 'cons.price.idx', 'duration',\n",
       "        'emp.var.rate', 'euribor3m', 'nr.employed', 'pdays', 'previous'],\n",
       "       dtype='object')),\n",
       "                                 ('cat', OneHotEncoder(),\n",
       "                                  ['job', 'marital', 'education', 'default',\n",
       "                                   'housing', 'loan', 'contact', 'month',\n",
       "                                   'day_of_week', 'poutcome'])]))"
      ]
     },
     "execution_count": 39,
     "metadata": {},
     "output_type": "execute_result"
    }
   ],
   "source": [
    "# Create the first pipeline using the StandardScaler\n",
    "preprocessor_pipeline_std = ColumnTransformer( transformers=[\n",
    "        ('num', StandardScaler(), numeric_features),\n",
    "        ('cat', OneHotEncoder(), categorical_features)\n",
    "    ])\n",
    "\n",
    "#Create the second pipeline using MinMixScaler\n",
    "preprocessor_pipeline_norm = ColumnTransformer(\n",
    "    transformers=[\n",
    "        ('num', MinMaxScaler(), numeric_features),\n",
    "        ('cat', OneHotEncoder(), categorical_features)\n",
    "    ])\n",
    "\n",
    "preprocessor_pipeline_std, preprocessor_pipeline_norm\n"
   ]
  },
  {
   "cell_type": "markdown",
   "metadata": {},
   "source": [
    "* <i><b> Encoding is performed by both the methods to keep the steps handy. We will use pipeline method in the subsequent steps, not the steps in 5.2 </i></b>"
   ]
  },
  {
   "cell_type": "code",
   "execution_count": null,
   "metadata": {},
   "outputs": [],
   "source": []
  },
  {
   "cell_type": "markdown",
   "metadata": {},
   "source": [
    "### Problem 6: Train/Test Split\n",
    "\n",
    "With your data prepared, split it into a train and test set."
   ]
  },
  {
   "cell_type": "code",
   "execution_count": 44,
   "metadata": {},
   "outputs": [],
   "source": [
    "X = df_remunkown.drop(\"y\", axis=1)\n",
    "y = df_remunkown[\"y\"]\n",
    "X_train, X_test, y_train, y_test = train_test_split(X, y, test_size=0.3, random_state=42)"
   ]
  },
  {
   "cell_type": "markdown",
   "metadata": {},
   "source": [
    "### Problem 7: A Baseline Model\n",
    "\n",
    "Before we build our first model, we want to establish a baseline.  What is the baseline performance that our classifier should aim to beat?"
   ]
  },
  {
   "cell_type": "markdown",
   "metadata": {},
   "source": [
    "### 7.1 Baseline performance of Standarization"
   ]
  },
  {
   "cell_type": "code",
   "execution_count": 195,
   "metadata": {},
   "outputs": [
    {
     "name": "stdout",
     "output_type": "stream",
     "text": [
      "A Baseline performance: 0.874138981303594\n",
      "Time in seconds: 0.5952258110046387 seconds\n",
      "Test score:  0.8717612331912102\n"
     ]
    }
   ],
   "source": [
    "# Use Dummyclassifer from sklearn that makes random prediction based on the given condition. \n",
    "start = time.time()\n",
    "\n",
    "baseline_pipe = Pipeline([('preprocess_std', preprocessor_pipeline_std),\n",
    "                         ('baseline_classifier', DummyClassifier(strategy=\"most_frequent\"))])\n",
    "baseline_pipe.fit(X_train, y_train)\n",
    "baseline_pipe_score = baseline_pipe.score(X_train, y_train)\n",
    "\n",
    "end = time.time()\n",
    "time_taken = end - start\n",
    "\n",
    "print(\"A Baseline performance:\", baseline_pipe_score)\n",
    "print(\"Time in seconds:\", time_taken, \"seconds\")\n",
    "print(\"Test score: \", baseline_pipe.score(X_test, y_test))"
   ]
  },
  {
   "cell_type": "markdown",
   "metadata": {},
   "source": [
    "### 7.2 Baseline performance of Normalization"
   ]
  },
  {
   "cell_type": "code",
   "execution_count": 196,
   "metadata": {},
   "outputs": [
    {
     "name": "stdout",
     "output_type": "stream",
     "text": [
      "A Baseline performance: 0.874138981303594\n",
      "Time in seconds: 0.1962130069732666 seconds\n",
      "Test score:  0.8717612331912102\n"
     ]
    }
   ],
   "source": [
    "# Use Dummyclassifer from sklearn that makes random prediction based on the given condition. \n",
    "start = time.time()\n",
    "\n",
    "baseline_pipe_n = Pipeline([('preprocess_norm', preprocessor_pipeline_norm),\n",
    "                         ('baseline_classifier', DummyClassifier(strategy=\"most_frequent\"))])\n",
    "baseline_pipe_n.fit(X_train, y_train)\n",
    "baseline_pipe_score_n = baseline_pipe_n.score(X_train, y_train)\n",
    "\n",
    "end = time.time()\n",
    "time_taken = end - start\n",
    "\n",
    "print(\"A Baseline performance:\", baseline_pipe_score)\n",
    "print(\"Time in seconds:\", time_taken, \"seconds\")\n",
    "print(\"Test score: \", baseline_pipe_n.score(X_test, y_test))"
   ]
  },
  {
   "cell_type": "markdown",
   "metadata": {},
   "source": [
    "* I assumed that the two transformations would yield different performance scores, but that's not the case. Let's take that it's because the dummyclassifier is just looking for the \"y\" so whether data is transformed doesn't matter. "
   ]
  },
  {
   "cell_type": "code",
   "execution_count": null,
   "metadata": {},
   "outputs": [],
   "source": []
  },
  {
   "cell_type": "markdown",
   "metadata": {},
   "source": [
    "### Problem 8: A Simple Model\n",
    "\n",
    "Use Logistic Regression to build a basic model on your data.  "
   ]
  },
  {
   "cell_type": "markdown",
   "metadata": {},
   "source": [
    "### 8.1 Logistic Regression"
   ]
  },
  {
   "cell_type": "code",
   "execution_count": 73,
   "metadata": {},
   "outputs": [
    {
     "name": "stdout",
     "output_type": "stream",
     "text": [
      "Model Score: 0.9004732674195212\n",
      "Time in seconds: 0.5996439456939697 seconds\n"
     ]
    }
   ],
   "source": [
    "# Construct pipeline using preprocessor and LogisticRegression\n",
    "start = time.time()\n",
    "logistic_regression = Pipeline([('preprocess', preprocessor_pipeline_std),\n",
    "                               ('lgr', LogisticRegression(max_iter=1000))])\n",
    "logistic_regression.fit(X_train, y_train)\n",
    "baseline_pipe_score_lr = logistic_regression.score(X_train, y_train)\n",
    "\n",
    "end = time.time()\n",
    "time_taken = end - start\n",
    "\n",
    "print(\"Model Score:\", baseline_pipe_score_lr)\n",
    "print(\"Time in seconds:\", time_taken, \"seconds\")"
   ]
  },
  {
   "cell_type": "code",
   "execution_count": 79,
   "metadata": {},
   "outputs": [],
   "source": [
    "import warnings\n",
    "warnings.filterwarnings(\"ignore\")"
   ]
  },
  {
   "cell_type": "markdown",
   "metadata": {},
   "source": [
    "#### 8.1.1 Logistic Regression on Standarize data"
   ]
  },
  {
   "cell_type": "code",
   "execution_count": 197,
   "metadata": {},
   "outputs": [
    {
     "name": "stdout",
     "output_type": "stream",
     "text": [
      "Best parameters of LogisticRegression:  {'lgr__C': 1, 'lgr__max_iter': 100, 'lgr__penalty': 'l1', 'lgr__solver': 'liblinear'}\n",
      "Best score of LogisticRegression:  0.8994892341926704\n",
      "Test score:  0.9007324805947305\n",
      "Time in seconds: 219.47395396232605 seconds\n"
     ]
    }
   ],
   "source": [
    "# Construct the Logistic Regression using GridSearchCV to find the best combination of the parameters\n",
    "# param_grid = {'penalty': ['l1', 'l2'],\n",
    "#               'C': [0.001, 0.01, 0.1, 1, 10, 100],\n",
    "#               'solver': ['newton-cg', 'lbfgs', 'liblinear', 'sag'],\n",
    "#               'max_iter': [100, 200, 300, 400, 500],\n",
    "#               'class_weight': [None, 'balanced']}\n",
    "start = time.time()\n",
    "logistic_regression_grid = Pipeline([('preprocess', preprocessor_pipeline_std),\n",
    "                               ('lgr', LogisticRegression())])\n",
    "param_grid = {'lgr__penalty': ['l2', None, 'l1'],\n",
    "             'lgr__max_iter': [100, 200, 300, 400, 500],\n",
    "             'lgr__solver': ['lbfgs', 'liblinear'],\n",
    "             'lgr__C': [0.001, 0.01, 0.1, 1, 10, 100]}\n",
    "\n",
    "grid_search_lgr = GridSearchCV(logistic_regression_grid, param_grid, cv=5)\n",
    "grid_search_lgr.fit(X_train, y_train)\n",
    "\n",
    "end = time.time()\n",
    "time_taken = end - start\n",
    "\n",
    "print(\"Best parameters of LogisticRegression: \", grid_search_lgr.best_params_)\n",
    "print(\"Best score of LogisticRegression: \", grid_search_lgr.best_score_)\n",
    "print(\"Test score: \", grid_search_lgr.score(X_test, y_test))\n",
    "print(\"Time in seconds:\", time_taken, \"seconds\")"
   ]
  },
  {
   "cell_type": "markdown",
   "metadata": {},
   "source": [
    "#### 8.1.2 Logistic Regression on Normalized data"
   ]
  },
  {
   "cell_type": "code",
   "execution_count": 198,
   "metadata": {},
   "outputs": [
    {
     "name": "stdout",
     "output_type": "stream",
     "text": [
      "Best parameters of LogisticRegression:  {'lgr__C': 1, 'lgr__max_iter': 200, 'lgr__penalty': 'l1', 'lgr__solver': 'liblinear'}\n",
      "Best score of LogisticRegression:  0.8993018366756875\n",
      "Time in seconds: 140.39847207069397 seconds\n",
      "Test score:  0.901388433366131\n"
     ]
    }
   ],
   "source": [
    "# Construct the Logistic Regression using GridSearchCV to find the best combination of the parameters using Normalization\n",
    "start = time.time()\n",
    "logistic_regression_grid_norm = Pipeline([('preprocess', preprocessor_pipeline_norm),\n",
    "                               ('lgr', LogisticRegression())])\n",
    "param_grid = {'lgr__penalty': ['l2', None, 'l1'],\n",
    "             'lgr__max_iter': [100, 200, 300, 400, 500],\n",
    "             'lgr__solver': ['lbfgs', 'liblinear'],\n",
    "             'lgr__C': [0.001, 0.01, 0.1, 1, 10]}\n",
    "\n",
    "grid_search_lgr_norm = GridSearchCV(logistic_regression_grid_norm, param_grid, cv=5)\n",
    "grid_search_lgr_norm.fit(X_train, y_train)\n",
    "\n",
    "end = time.time()\n",
    "time_taken = end - start\n",
    "\n",
    "print(\"Best parameters of LogisticRegression: \", grid_search_lgr_norm.best_params_)\n",
    "print(\"Best score of LogisticRegression: \", grid_search_lgr_norm.best_score_)\n",
    "print(\"Time in seconds:\", time_taken, \"seconds\")\n",
    "print(\"Test score: \", grid_search_lgr_norm.score(X_test, y_test))\n"
   ]
  },
  {
   "cell_type": "markdown",
   "metadata": {},
   "source": [
    "### 8.2 KNN "
   ]
  },
  {
   "cell_type": "markdown",
   "metadata": {},
   "source": [
    "#### 8.2.1 KNN with Normalization"
   ]
  },
  {
   "cell_type": "code",
   "execution_count": 90,
   "metadata": {},
   "outputs": [
    {
     "name": "stdout",
     "output_type": "stream",
     "text": [
      "Time in seconds: 219.49962306022644 seconds\n",
      "Best parameters of LogisticRegression:  {'knn__n_neighbors': 15, 'knn__p': 1, 'knn__weights': 'uniform'}\n",
      "Best score of LogisticRegression:  0.8874937294498842\n",
      "Test score:  0.8846616376954193\n"
     ]
    }
   ],
   "source": [
    "start = time.time()\n",
    "\n",
    "#Create the pipeline using Normalized data \n",
    "knn_grid_norm = Pipeline([('preprocess', preprocessor_pipeline_norm),\n",
    "                         ('knn', KNeighborsClassifier())\n",
    "                         ])\n",
    "\n",
    "# Define parameter grid\n",
    "param_grid_knn = {'knn__n_neighbors': [5, 10, 15, 20],\n",
    "                 'knn__weights': ['uniform', 'distance'],\n",
    "                 'knn__p':[1, 2]\n",
    "                 }\n",
    "#Create Gridsearch Object\n",
    "grid_search_knn_norm = GridSearchCV(knn_grid_norm, param_grid_knn, cv=5)\n",
    "\n",
    "# Fit the KNN model on training data\n",
    "grid_search_knn_norm.fit(X_train, y_train)\n",
    "\n",
    "end = time.time()\n",
    "time_taken = end - start\n",
    "print(\"Time in seconds:\", time_taken, \"seconds\")\n",
    "print(\"Best parameters of LogisticRegression: \", grid_search_knn_norm.best_params_)\n",
    "print(\"Best score of LogisticRegression: \", grid_search_knn_norm.best_score_)\n",
    "print(\"Test score: \", grid_search_knn_norm.score(X_test, y_test))"
   ]
  },
  {
   "cell_type": "markdown",
   "metadata": {},
   "source": [
    "#### 8.2.2 KNN with Standarization"
   ]
  },
  {
   "cell_type": "code",
   "execution_count": null,
   "metadata": {},
   "outputs": [],
   "source": [
    "start = time.time()\n",
    "\n",
    "#Create the pipeline using Standarized data \n",
    "knn_grid_std = Pipeline([('preprocess', preprocessor_pipeline_std),\n",
    "                         ('knn', KNeighborsClassifier())\n",
    "                         ])\n",
    "\n",
    "# Define parameter grid\n",
    "param_grid_knn_std = {'knn__n_neighbors': [5, 10, 15, 20],\n",
    "                 'knn__weights': ['uniform', 'distance'],\n",
    "                 'knn__p':[1, 2]\n",
    "                 }\n",
    "#Create Gridsearch Object\n",
    "grid_search_knn_norm = GridSearchCV(knn_grid_std, param_grid_knn_std, cv=5)\n",
    "\n",
    "# Fit the KNN model on training data\n",
    "grid_search_knn_norm.fit(X_train, y_train)\n",
    "\n",
    "end = time.time()\n",
    "time_taken = end - start\n"
   ]
  },
  {
   "cell_type": "code",
   "execution_count": 114,
   "metadata": {},
   "outputs": [
    {
     "name": "stdout",
     "output_type": "stream",
     "text": [
      "Time in seconds: 225.04505896568298 seconds\n",
      "Best parameters of LogisticRegression:  {'knn__n_neighbors': 15, 'knn__p': 2, 'knn__weights': 'uniform'}\n",
      "Best score of LogisticRegression:  0.8962561769721031\n",
      "Test score:  0.8923144200284246\n"
     ]
    }
   ],
   "source": [
    "print(\"Time in seconds:\", time_taken, \"seconds\")\n",
    "print(\"Best parameters of LogisticRegression: \", grid_search_knn_norm.best_params_)\n",
    "print(\"Best score of LogisticRegression: \", grid_search_knn_norm.best_score_)\n",
    "print(\"Test score: \", grid_search_knn_norm.score(X_test, y_test))"
   ]
  },
  {
   "cell_type": "code",
   "execution_count": 127,
   "metadata": {},
   "outputs": [
    {
     "name": "stdout",
     "output_type": "stream",
     "text": [
      "Classification Report: \n",
      "              precision    recall  f1-score   support\n",
      "\n",
      "          no       0.91      0.97      0.94      7974\n",
      "         yes       0.63      0.38      0.47      1173\n",
      "\n",
      "    accuracy                           0.89      9147\n",
      "   macro avg       0.77      0.67      0.71      9147\n",
      "weighted avg       0.88      0.89      0.88      9147\n",
      "\n"
     ]
    }
   ],
   "source": [
    "y_pred = grid_search_knn_norm.predict(X_test)\n",
    "\n",
    "# Generate report \n",
    "class_report = classification_report(y_test, y_pred)\n",
    "print(\"Classification Report: \")\n",
    "print(class_report)"
   ]
  },
  {
   "cell_type": "code",
   "execution_count": null,
   "metadata": {},
   "outputs": [],
   "source": [
    "# Make predictions on test data\n",
    "y_pred = grid_search_knn_norm.predict(X_test)\n",
    "\n",
    "# Calculate confusion matrix\n",
    "cm = confusion_matrix(y_test, y_pred)\n",
    "print(\"Confusion matrix of KNN model with Normalization\")\n",
    "\n",
    "# Plot the confusion matrix as a heatmap\n",
    "plt.figure(figsize=(6, 6))\n",
    "sns.heatmap(cm, annot=True, fmt='d', cmap='Blues')\n",
    "plt.xlabel('Predicted Label')\n",
    "plt.ylabel('True Label')\n",
    "plt.title('Confusion Matrix')\n",
    "plt.show()\n"
   ]
  },
  {
   "cell_type": "markdown",
   "metadata": {},
   "source": [
    "#### 8.2.3 KNN with Normalization default setting. No gridsearch"
   ]
  },
  {
   "cell_type": "code",
   "execution_count": 152,
   "metadata": {},
   "outputs": [
    {
     "name": "stdout",
     "output_type": "stream",
     "text": [
      "Time in seconds: 0.14859604835510254 seconds\n",
      "Train score:  0.9074551333114662\n",
      "Test score:  0.8788673882147152\n"
     ]
    }
   ],
   "source": [
    "start = time.time()\n",
    "\n",
    "knn = knn_grid_norm.fit(X_train, y_train)\n",
    "\n",
    "end = time.time()\n",
    "time_taken = end - start\n",
    "print(\"Time in seconds:\", time_taken, \"seconds\")\n",
    "print(\"Train score: \", knn.score(X_train, y_train))\n",
    "print(\"Test score: \", knn.score(X_test, y_test))"
   ]
  },
  {
   "cell_type": "code",
   "execution_count": null,
   "metadata": {},
   "outputs": [],
   "source": []
  },
  {
   "cell_type": "markdown",
   "metadata": {},
   "source": [
    "### 8.3 Decision Trees"
   ]
  },
  {
   "cell_type": "markdown",
   "metadata": {},
   "source": [
    "* DecisionTree Classifier of Sklearn is not senstive to the scale of the features, so transformation may not make noticeable difference. Therefore, I plan to experiment with and w/o transformation to see which works best. "
   ]
  },
  {
   "cell_type": "markdown",
   "metadata": {},
   "source": [
    "#### 8.3.1 With Standarization "
   ]
  },
  {
   "cell_type": "code",
   "execution_count": 131,
   "metadata": {},
   "outputs": [
    {
     "name": "stdout",
     "output_type": "stream",
     "text": [
      "Time in seconds: 60.70226812362671 seconds\n",
      "Best parameters of DecisionTree with Standarization:  {'dtree__criterion': 'entropy', 'dtree__max_depth': 5, 'dtree__min_samples_split': 5, 'dtree__splitter': 'best'}\n",
      "Best score of DecisionTree with Standarization:  0.9036596522125135\n",
      "Test score of DecisionTree with Standarization:  0.907073357384935\n"
     ]
    }
   ],
   "source": [
    "start = time.time()\n",
    "\n",
    "#Create the pipeline using Normalized data \n",
    "tree_grid_norm = Pipeline([('preprocess', preprocessor_pipeline_std),\n",
    "                         ('dtree', DecisionTreeClassifier())\n",
    "                         ])\n",
    "\n",
    "# Define parameter grid\n",
    "param_grid_tree = {'dtree__criterion': ['gini','entropy'],\n",
    "                 'dtree__splitter': ['best', 'random'],\n",
    "                 'dtree__min_samples_split':[2, 5, 7, 10, 15],\n",
    "                   'dtree__max_depth':[None, 5, 10, 15]\n",
    "                 }\n",
    "#Create Gridsearch Object\n",
    "grid_search_tree_std = GridSearchCV(tree_grid_norm, param_grid_tree, cv=5)\n",
    "\n",
    "# Fit the DecisionTree model on training data\n",
    "grid_search_tree_std.fit(X_train, y_train)\n",
    "\n",
    "end = time.time()\n",
    "time_taken = end - start\n",
    "print(\"Time in seconds:\", time_taken, \"seconds\")\n",
    "print(\"Best parameters of DecisionTree with Standarization: \", grid_search_tree_std.best_params_)\n",
    "print(\"Best score of DecisionTree with Standarization: \", grid_search_tree_std.best_score_)\n",
    "print(\"Test score of DecisionTree with Standarization: \", grid_search_tree_std.score(X_test, y_test))"
   ]
  },
  {
   "cell_type": "code",
   "execution_count": 135,
   "metadata": {},
   "outputs": [
    {
     "data": {
      "image/png": "[encoded data removed]",
      "text/plain": [
       "<Figure size 432x432 with 2 Axes>"
      ]
     },
     "metadata": {
      "needs_background": "light"
     },
     "output_type": "display_data"
    }
   ],
   "source": [
    "# Make predictions on test data\n",
    "y_pred_dtree = grid_search_tree_std.predict(X_test)\n",
    "\n",
    "# Calculate confusion matrix\n",
    "cm_dtree = confusion_matrix(y_test, y_pred_dtree)\n",
    "\n",
    "# Plot the confusion matrix as a heatmap\n",
    "plt.figure(figsize=(6, 6))\n",
    "sns.heatmap(cm_dtree, annot=True, fmt='d', cmap='Blues')\n",
    "plt.xlabel('Predicted Label')\n",
    "plt.ylabel('True Label')\n",
    "plt.title('Confusion Matrix')\n",
    "plt.show()"
   ]
  },
  {
   "cell_type": "code",
   "execution_count": null,
   "metadata": {},
   "outputs": [],
   "source": [
    "#### 8.3.2 Without Standarization"
   ]
  },
  {
   "cell_type": "code",
   "execution_count": 136,
   "metadata": {},
   "outputs": [],
   "source": [
    "# Create new transformer with only onehotencoder. \n",
    "preprocessor_pipeline_onehot = ColumnTransformer(\n",
    "    transformers=[\n",
    "        ('cat', OneHotEncoder(), categorical_features)\n",
    "    ])"
   ]
  },
  {
   "cell_type": "code",
   "execution_count": 139,
   "metadata": {},
   "outputs": [
    {
     "name": "stdout",
     "output_type": "stream",
     "text": [
      "Time in seconds: 67.87834286689758 seconds\n",
      "Best parameters of DecisionTree:  {'dtree__criterion': 'entropy', 'dtree__max_depth': 5, 'dtree__min_samples_split': 7, 'dtree__splitter': 'random'}\n",
      "Best score of DecisionTree:  0.8859471510901262\n",
      "Test score of DecisionTree:  0.8817098502241172\n"
     ]
    }
   ],
   "source": [
    "start = time.time()\n",
    "\n",
    "#Create the pipeline using Normalized data \n",
    "tree_grid = Pipeline([('onehot', preprocessor_pipeline_onehot),\n",
    "                      ('dtree', DecisionTreeClassifier())\n",
    "                         ])\n",
    "\n",
    "# Define parameter grid\n",
    "param_grid_tree = {'dtree__criterion': ['gini','entropy'],\n",
    "                 'dtree__splitter': ['best', 'random'],\n",
    "                 'dtree__min_samples_split':[2, 5, 7, 10, 15],\n",
    "                   'dtree__max_depth':[None, 5, 10, 15]\n",
    "                 }\n",
    "#Create Gridsearch Object\n",
    "grid_search_tree = GridSearchCV(tree_grid, param_grid_tree, cv=5)\n",
    "\n",
    "# Fit the DecisionTree model on training data\n",
    "grid_search_tree.fit(X_train, y_train)\n",
    "\n",
    "end = time.time()\n",
    "time_taken = end - start\n",
    "print(\"Time in seconds:\", time_taken, \"seconds\")\n",
    "print(\"Best parameters of DecisionTree: \", grid_search_tree.best_params_)\n",
    "print(\"Best score of DecisionTree: \", grid_search_tree.best_score_)\n",
    "print(\"Test score of DecisionTree: \", grid_search_tree.score(X_test, y_test))"
   ]
  },
  {
   "cell_type": "markdown",
   "metadata": {},
   "source": [
    "* Without Scaling model performed relatively close to the baseline score of 87.4, as highlighted in 7.2 "
   ]
  },
  {
   "cell_type": "code",
   "execution_count": null,
   "metadata": {},
   "outputs": [],
   "source": [
    "import matplotlib.pyplot as plt\n",
    "from sklearn.metrics import roc_auc_score, roc_curve\n",
    "\n",
    "y_pred = grid_search_tree.predict_proba(X_test)[:, 1]\n",
    "fpr, tpr, _ = roc_curve(y_test, y_pred)\n",
    "\n",
    "plt.plot(fpr, tpr)\n",
    "plt.xlabel('False Positive Rate')\n",
    "plt.ylabel('True Positive Rate')\n",
    "plt.title('ROC curve')\n",
    "plt.show()\n",
    "\n",
    "roc_auc = roc_auc_score(y_test, y_pred)\n",
    "print('ROC AUC: %.3f' % roc_auc)"
   ]
  },
  {
   "cell_type": "code",
   "execution_count": 168,
   "metadata": {},
   "outputs": [
    {
     "name": "stdout",
     "output_type": "stream",
     "text": [
      "ROC AUC: 0.710\n"
     ]
    },
    {
     "data": {
      "image/png": "[encoded data removed]",
      "text/plain": [
       "<Figure size 432x288 with 1 Axes>"
      ]
     },
     "metadata": {
      "needs_background": "light"
     },
     "output_type": "display_data"
    }
   ],
   "source": [
    "from sklearn.metrics import roc_auc_score, plot_roc_curve\n",
    "\n",
    "y_pred = grid_search_tree.predict_proba(X_test)[:, 1]\n",
    "# Compute the ROC AUC score\n",
    "roc_auc = roc_auc_score(y_test, y_pred)\n",
    "\n",
    "# Plot the ROC curve\n",
    "plot_roc_curve(grid_search_tree.fit(X_train, y_train), X_test, y_test)\n",
    "plt.xlabel('False Positive Rate')\n",
    "plt.ylabel('True Positive Rate')\n",
    "plt.title('ROC curve')\n",
    "\n",
    "print('ROC AUC: %.3f' % roc_auc)"
   ]
  },
  {
   "cell_type": "markdown",
   "metadata": {},
   "source": [
    "### 8.4 Support Vector Machine"
   ]
  },
  {
   "cell_type": "markdown",
   "metadata": {},
   "source": [
    "* It is advised to scale the data before building the SVM model. \n",
    "* It is also recommended to check for the correlation of data before constructing the SVM model as it can lead to multicolinearity in the model. The multicolineartity in the model can cause unstable estimates of the coefficients and increase the variance of model. Resulting in overfitting. \n",
    "    * The Kernel trick can address the multicolinearity. \n",
    "* Lets build the model with and without Kernel trick to see the difference. "
   ]
  },
  {
   "cell_type": "markdown",
   "metadata": {},
   "source": [
    "#### 8.4.1 SVM without Kernel Trick and with Standarization"
   ]
  },
  {
   "cell_type": "code",
   "execution_count": null,
   "metadata": {},
   "outputs": [],
   "source": [
    "start = time.time()\n",
    "\n",
    "#Create the pipeline using Normalized data \n",
    "svm_grid_std = Pipeline([('preprocess', preprocessor_pipeline_std),\n",
    "                         ('svm', SVC())\n",
    "                         ])\n",
    "\n",
    "# Define parameter grid\n",
    "param_grid_tree = {'svm__C': [0.1, 1, 10, 100],\n",
    "                 'svm__gamma': [0.1, 1, 10, 100]\n",
    "                 }\n",
    "#Create Gridsearch Object\n",
    "grid_search_svm_std = GridSearchCV(svm_grid_std, param_grid_tree, cv=5)\n",
    "\n",
    "# Fit the DecisionTree model on training data\n",
    "grid_search_svm_std.fit(X_train, y_train)\n",
    "\n",
    "end = time.time()\n",
    "time_taken = end - start\n",
    "print(\"Time in seconds:\", time_taken, \"seconds\")\n",
    "print(\"Best parameters of SVM with Standarization: \", grid_search_svm_std.best_params_)\n",
    "print(\"Best score of SVM with Standarization: \", grid_search_svm_std.best_score_)\n",
    "print(\"Test score of SVM with Standarization: \", grid_search_svm_std.score(X_test, y_test))"
   ]
  },
  {
   "cell_type": "markdown",
   "metadata": {},
   "source": [
    "* The first run with grid parameters of below ran over 20 minutes without yielding the result so I had to interupt the kernel. \n",
    "```\n",
    "param_grid_tree = {'svm__C': [0.1, 1, 10, 100],\n",
    "                 'svm__gamma': [0.1, 1, 10, 100]\n",
    "                 }\n",
    "```"
   ]
  },
  {
   "cell_type": "markdown",
   "metadata": {},
   "source": [
    "#### 8.4.2 SVM With KernelTrick and Standaization"
   ]
  },
  {
   "cell_type": "code",
   "execution_count": null,
   "metadata": {},
   "outputs": [],
   "source": [
    "start = time.time()\n",
    "\n",
    "#Create the pipeline using Normalized data \n",
    "svm_grid_std_kernel = Pipeline([('preprocess', preprocessor_pipeline_std),\n",
    "                         ('svm', SVC())\n",
    "                         ])\n",
    "\n",
    "# Define parameter grid\n",
    "param_grid_tree_kernel = {'svm__C': [0.1, 1, 10],\n",
    "                 'svm__gamma': [0.1, 1, 10],\n",
    "                 'svm__kernel': ['linear', 'poly', 'rbf']\n",
    "                 }\n",
    "#Create Gridsearch Object\n",
    "grid_search_svm_std_kernel = GridSearchCV(svm_grid_std_kernel, param_grid_tree_kernel, n_jobs=-1)\n",
    "\n",
    "# Fit the SVM model on training data\n",
    "grid_search_svm_std_kernel.fit(X_train, y_train)\n",
    "\n",
    "end = time.time()\n",
    "time_taken = end - start\n",
    "print(\"Time in seconds:\", time_taken, \"seconds\")\n",
    "print(\"Best parameters of SVM with Kernel & Standarization: \", grid_search_svm_std_kernel.best_params_)\n",
    "print(\"Best score of SVM with Kernel & Standarization: \", grid_search_svm_std_kernel.best_score_)\n",
    "print(\"Test score of SVM with Kernel & Standarization: \", grid_search_svm_std_kernel.score(X_test, y_test))"
   ]
  },
  {
   "cell_type": "markdown",
   "metadata": {},
   "source": [
    "* The second run with below grid parameters ran over 25 minutes without yielding the result so I had to interupt the kernel.\n",
    "```\n",
    "param_grid_tree_kernel = {'svm__C': [0.1, 1, 10],\n",
    "                 'svm__gamma': [0.1, 1, 10],\n",
    "                 'svm__kernel': ['linear', 'poly', 'rbf']\n",
    "                 }\n",
    "```\n",
    "\n",
    "* Now, I plan to run SVM without Gridsearch. "
   ]
  },
  {
   "cell_type": "markdown",
   "metadata": {},
   "source": [
    "#### 8.4.3 SVM without Gridsearch"
   ]
  },
  {
   "cell_type": "code",
   "execution_count": 147,
   "metadata": {},
   "outputs": [],
   "source": [
    "from sklearn.model_selection import cross_val_score\n",
    "from sklearn.model_selection import KFold\n",
    "from sklearn.metrics import accuracy_score"
   ]
  },
  {
   "cell_type": "code",
   "execution_count": 144,
   "metadata": {},
   "outputs": [
    {
     "name": "stdout",
     "output_type": "stream",
     "text": [
      "Time in seconds: 4113.002244710922 seconds\n"
     ]
    }
   ],
   "source": [
    "# Create SVM model\n",
    "svm_grid_std_kernel = Pipeline([('preprocess', preprocessor_pipeline_std),\n",
    "                         ('svm', SVC())\n",
    "                         ])\n",
    "\n",
    "# Fit the SVM model on training data\n",
    "svm_model = svm_grid_std_kernel.fit(X_train, y_train)\n",
    "\n",
    "end = time.time()\n",
    "time_taken = end - start\n",
    "print(\"Time in seconds:\", time_taken, \"seconds\")\n",
    "#print(\"Best parameters of SVM with Kernel & Standarization: \", grid_search_svm_std_kernel.best_params_)\n",
    "#print(\"Best score of SVM with Kernel & Standarization: \", grid_search_svm_std_kernel.best_score_)\n",
    "#print(\"Test score of SVM with Kernel & Standarization: \", grid_search_svm_std_kernel.score(X_test, y_test))"
   ]
  },
  {
   "cell_type": "code",
   "execution_count": 149,
   "metadata": {},
   "outputs": [
    {
     "name": "stdout",
     "output_type": "stream",
     "text": [
      "Test score of SVM with Kernel & Standarization:  0.89996720236143\n",
      "Accuracy Test score of SVM with Kernel & Standarization:  0.89996720236143\n"
     ]
    }
   ],
   "source": [
    "# Make predictions on test data\n",
    "y_pred_svm_no_grid = svm_model.predict(X_test)\n",
    "\n",
    "#Print Scores\n",
    "print(\"Test score of SVM with Kernel & Standarization: \", svm_model.score(X_test, y_test))\n",
    "print(\"Accuracy Test score of SVM with Kernel & Standarization: \", accuracy_score(y_test, predictions))"
   ]
  },
  {
   "cell_type": "code",
   "execution_count": 150,
   "metadata": {},
   "outputs": [
    {
     "data": {
      "image/png": "[encoded data removed]",
      "text/plain": [
       "<Figure size 432x432 with 2 Axes>"
      ]
     },
     "metadata": {
      "needs_background": "light"
     },
     "output_type": "display_data"
    }
   ],
   "source": [
    "# Calculate confusion matrix\n",
    "cm_svm_no_grid = confusion_matrix(y_test, y_pred_svm_no_grid)\n",
    "\n",
    "# Plot the confusion matrix as a heatmap\n",
    "plt.figure(figsize=(6, 6))\n",
    "sns.heatmap(cm_svm_no_grid, annot=True, fmt='d', cmap='Blues')\n",
    "plt.xlabel('Predicted Label')\n",
    "plt.ylabel('True Label')\n",
    "plt.title('Confusion Matrix')\n",
    "plt.show()"
   ]
  },
  {
   "cell_type": "code",
   "execution_count": null,
   "metadata": {},
   "outputs": [],
   "source": []
  },
  {
   "cell_type": "markdown",
   "metadata": {},
   "source": [
    "### Problem 9: Score the Model\n",
    "\n",
    "What is the accuracy of your model?"
   ]
  },
  {
   "cell_type": "markdown",
   "metadata": {},
   "source": [
    "<b><i>The aim of this project was to enhance the efficacy of the bank's telemarketing drive, which was achieved by utilizing data analysis, visualization techniques, and constructing analytical models. To this end, a specific customer profile was defined, and classification and regression models were created to forecast customers' reactions to the term deposit initiative.\n",
    "\n",
    "The DecisionTree model seems to be most accurate in terms of both Train and Test accuracy of 90%.</b></i>"
   ]
  },
  {
   "cell_type": "markdown",
   "metadata": {},
   "source": [
    "### Problem 10: Model Comparisons\n",
    "\n",
    "Now, we aim to compare the performance of the Logistic Regression model to our KNN algorithm, Decision Tree, and SVM models.  Using the default settings for each of the models, fit and score each.  Also, be sure to compare the fit time of each of the models.  Present your findings in a `DataFrame` similar to that below:\n",
    "\n",
    "| Model | Train Time | Train Accuracy | Test Accuracy |\n",
    "| ----- | ---------- | -------------  | -----------   |\n",
    "|     |    |.     |.     |"
   ]
  },
  {
   "cell_type": "code",
   "execution_count": 202,
   "metadata": {},
   "outputs": [
    {
     "data": {
      "text/html": [
       "<div>\n",
       "<style scoped>\n",
       "    .dataframe tbody tr th:only-of-type {\n",
       "        vertical-align: middle;\n",
       "    }\n",
       "\n",
       "    .dataframe tbody tr th {\n",
       "        vertical-align: top;\n",
       "    }\n",
       "\n",
       "    .dataframe thead th {\n",
       "        text-align: right;\n",
       "    }\n",
       "</style>\n",
       "<table border=\"1\" class=\"dataframe\">\n",
       "  <thead>\n",
       "    <tr style=\"text-align: right;\">\n",
       "      <th></th>\n",
       "      <th>Train Time (sec)</th>\n",
       "      <th>Train Accuracy</th>\n",
       "      <th>Test Accuracy</th>\n",
       "    </tr>\n",
       "    <tr>\n",
       "      <th>Models</th>\n",
       "      <th></th>\n",
       "      <th></th>\n",
       "      <th></th>\n",
       "    </tr>\n",
       "  </thead>\n",
       "  <tbody>\n",
       "    <tr>\n",
       "      <th>Baseline_w_standard</th>\n",
       "      <td>0.595</td>\n",
       "      <td>0.874</td>\n",
       "      <td>0.871</td>\n",
       "    </tr>\n",
       "    <tr>\n",
       "      <th>LogisticRegression_w_standard</th>\n",
       "      <td>219.47</td>\n",
       "      <td>0.899</td>\n",
       "      <td>0.900</td>\n",
       "    </tr>\n",
       "    <tr>\n",
       "      <th>KNN_w_standard</th>\n",
       "      <td>225.04</td>\n",
       "      <td>0.896</td>\n",
       "      <td>0.892</td>\n",
       "    </tr>\n",
       "    <tr>\n",
       "      <th>Decision Tree_w_standard</th>\n",
       "      <td>60.70</td>\n",
       "      <td>0.903</td>\n",
       "      <td>0.907</td>\n",
       "    </tr>\n",
       "    <tr>\n",
       "      <th>SVD_w_standard</th>\n",
       "      <td>21 mins</td>\n",
       "      <td>no_result</td>\n",
       "      <td>no_result</td>\n",
       "    </tr>\n",
       "    <tr>\n",
       "      <th>Baseline_w_normalization</th>\n",
       "      <td>0.874</td>\n",
       "      <td>0.874</td>\n",
       "      <td>0.871</td>\n",
       "    </tr>\n",
       "    <tr>\n",
       "      <th>LogisticRegression_w_normalization</th>\n",
       "      <td>140.398</td>\n",
       "      <td>0.899</td>\n",
       "      <td>0.901</td>\n",
       "    </tr>\n",
       "    <tr>\n",
       "      <th>KNN_w_normalization</th>\n",
       "      <td>219.499</td>\n",
       "      <td>0.887</td>\n",
       "      <td>0.884</td>\n",
       "    </tr>\n",
       "    <tr>\n",
       "      <th>Decision Tree_w_normalization</th>\n",
       "      <td>67.87</td>\n",
       "      <td>0.885</td>\n",
       "      <td>0.881</td>\n",
       "    </tr>\n",
       "    <tr>\n",
       "      <th>SVD_w_normalization</th>\n",
       "      <td>22 mins</td>\n",
       "      <td>no_result</td>\n",
       "      <td>no_result</td>\n",
       "    </tr>\n",
       "  </tbody>\n",
       "</table>\n",
       "</div>"
      ],
      "text/plain": [
       "                                   Train Time (sec) Train Accuracy  \\\n",
       "Models                                                               \n",
       "Baseline_w_standard                           0.595          0.874   \n",
       "LogisticRegression_w_standard                219.47          0.899   \n",
       "KNN_w_standard                               225.04          0.896   \n",
       "Decision Tree_w_standard                      60.70          0.903   \n",
       "SVD_w_standard                              21 mins      no_result   \n",
       "Baseline_w_normalization                      0.874          0.874   \n",
       "LogisticRegression_w_normalization          140.398          0.899   \n",
       "KNN_w_normalization                         219.499          0.887   \n",
       "Decision Tree_w_normalization                 67.87          0.885   \n",
       "SVD_w_normalization                         22 mins      no_result   \n",
       "\n",
       "                                   Test Accuracy  \n",
       "Models                                            \n",
       "Baseline_w_standard                        0.871  \n",
       "LogisticRegression_w_standard              0.900  \n",
       "KNN_w_standard                             0.892  \n",
       "Decision Tree_w_standard                   0.907  \n",
       "SVD_w_standard                         no_result  \n",
       "Baseline_w_normalization                   0.871  \n",
       "LogisticRegression_w_normalization         0.901  \n",
       "KNN_w_normalization                        0.884  \n",
       "Decision Tree_w_normalization              0.881  \n",
       "SVD_w_normalization                    no_result  "
      ]
     },
     "execution_count": 202,
     "metadata": {},
     "output_type": "execute_result"
    }
   ],
   "source": [
    "model_comp = pd.DataFrame({\n",
    "                          'Models': ['Baseline_w_standard', 'LogisticRegression_w_standard', 'KNN_w_standard', \n",
    "                                     'Decision Tree_w_standard', 'SVD_w_standard', \n",
    "                                    'Baseline_w_normalization', 'LogisticRegression_w_normalization', 'KNN_w_normalization', \n",
    "                                     'Decision Tree_w_normalization', 'SVD_w_normalization'], \n",
    "                          'Train Time (sec)': ['0.595', '219.47', '225.04', '60.70', '21 mins', '0.874', '140.398', '219.499', '67.87', '22 mins'],\n",
    "                          'Train Accuracy': ['0.874', '0.899', '0.896', '0.903', 'no_result', '0.874', '0.899' , '0.887', '0.885', 'no_result'],\n",
    "                          'Test Accuracy': ['0.871', '0.900', '0.892', '0.907', 'no_result', '0.871', '0.901', '0.884', '0.881', 'no_result']\n",
    "}).set_index('Models')\n",
    "model_comp"
   ]
  },
  {
   "cell_type": "code",
   "execution_count": null,
   "metadata": {},
   "outputs": [],
   "source": []
  },
  {
   "cell_type": "markdown",
   "metadata": {},
   "source": [
    "### Problem 11: Improving the Model\n",
    "\n",
    "Now that we have some basic models on the board, we want to try to improve these.  Below, we list a few things to explore in this pursuit.\n",
    "\n",
    "- More feature engineering and exploration.  For example, should we keep the gender feature?  Why or why not?\n",
    "- Hyperparameter tuning and grid search.  All of our models have additional hyperparameters to tune and explore.  For example the number of neighbors in KNN or the maximum depth of a Decision Tree.  \n",
    "- Adjust your performance metric"
   ]
  },
  {
   "cell_type": "markdown",
   "metadata": {},
   "source": [
    "* Improve the graphs by enabling better annotations. \n",
    "* Elaborate univariate analysis for understanding the distribution of each feature separately. \n",
    "* Perform PCA to understand the relationship of features better. \n",
    "* SVM model didn't finish due to the enormous amount of data. But we can use the subset of the banking data to run SVM. \n",
    "    * However, it will be interesting to see whether the data is evenly distributed.\n",
    "* Gridsearch CV is used to tune the parameters of the model. However, there is a possibility of fine-tuning further.\n",
    "* The more I understand the data, the better I can tune the models. \n",
    "* Each classification model can be further explored using the ROC curve to understand the accuracy better. I added a few ROC curves, but I have yet to explain them in detail.\n",
    "* There is a scope of reducing the lines of code using custom user functions. "
   ]
  },
  {
   "cell_type": "markdown",
   "metadata": {},
   "source": [
    "### References \n",
    "* https://www.hummingbirdpubng.com/wp-content/uploads/2020/07/HUJASD_VOL17_NO7_127-142.pdf\n",
    "* https://github.com/yfsui/Bank-Telemarketing-ML-Project\n",
    "* https://medium.com/@shuv.sdr/random-forest-classification-in-python-36c0893eefb7"
   ]
  },
  {
   "cell_type": "code",
   "execution_count": null,
   "metadata": {},
   "outputs": [],
   "source": []
  }
 ],
 "metadata": {
  "kernelspec": {
   "display_name": "Python 3",
   "language": "python",
   "name": "python3"
  },
  "language_info": {
   "codemirror_mode": {
    "name": "ipython",
    "version": 3
   },
   "file_extension": ".py",
   "mimetype": "text/x-python",
   "name": "python",
   "nbconvert_exporter": "python",
   "pygments_lexer": "ipython3",
   "version": "3.8.8"
  },
  "widgets": {
   "application/vnd.jupyter.widget-state+json": {
    "state": {},
    "version_major": 2,
    "version_minor": 0
   }
  }
 },
 "nbformat": 4,
 "nbformat_minor": 4
}
